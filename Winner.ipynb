{
  "nbformat": 4,
  "nbformat_minor": 0,
  "metadata": {
    "colab": {
      "name": "Winner.ipynb",
      "provenance": [],
      "collapsed_sections": []
    },
    "kernelspec": {
      "name": "python3",
      "display_name": "Python 3"
    },
    "accelerator": "GPU"
  },
  "cells": [
    {
      "cell_type": "code",
      "metadata": {
        "id": "fSpck3xAtIgu",
        "colab_type": "code",
        "colab": {
          "base_uri": "https://localhost:8080/",
          "height": 36
        },
        "outputId": "50ef29c5-8474-4563-97f3-e43f6b413951"
      },
      "source": [
        "!pip install -q catboost"
      ],
      "execution_count": 3,
      "outputs": [
        {
          "output_type": "stream",
          "text": [
            "\u001b[K     |████████████████████████████████| 64.8MB 45kB/s \n",
            "\u001b[?25h"
          ],
          "name": "stdout"
        }
      ]
    },
    {
      "cell_type": "code",
      "metadata": {
        "id": "Bi2fDqnDraDX",
        "colab_type": "code",
        "colab": {
          "base_uri": "https://localhost:8080/",
          "height": 36
        },
        "outputId": "886872c7-88db-4dbf-e4ce-f9dd7279a8a2"
      },
      "source": [
        "import pandas as pd\n",
        "from sklearn.cluster import MiniBatchKMeans\n",
        "import numpy as np\n",
        "import os\n",
        "from catboost import CatBoostRegressor\n",
        "from sklearn.decomposition import PCA\n",
        "from sklearn.metrics import mean_squared_error\n",
        "from math import sqrt\n",
        "\n",
        "IN_COLLAB = True\n",
        "SUBMIT = True\n",
        "\n",
        "if IN_COLLAB:\n",
        "    files_directory = '/content/drive/My Drive/'\n",
        "else:\n",
        "    files_directory = ''\n",
        "\n",
        "\n",
        "def pre_process(df):    \n",
        "    StartTime = pd.to_datetime(df['Timestamp'], infer_datetime_format=True)\n",
        "    \n",
        "    df['Day_in_week'] = StartTime.dt.dayofweek\n",
        "    # df['Day_in_year'] = StartTime.dt.dayofyear\n",
        "    # df['Month'] = StartTime.dt.month\n",
        "    df['Hour_in_Day'] = StartTime.dt.hour\n",
        "    df = df.drop('Timestamp', axis=1)\n",
        "    \n",
        "    return df\n",
        "\n",
        "\n",
        "def add_weather(trips_df, weather_df):\n",
        "    trips_df['Timestamp'] = pd.to_datetime(trips_df['Timestamp'], infer_datetime_format=True)\n",
        "    weather_df['date'] = pd.to_datetime(weather_df['date'], infer_datetime_format=True)\n",
        "    \n",
        "    trips_df['date'] = trips_df['Timestamp'].dt.date\n",
        "    weather_df['date'] = weather_df['date'].dt.date\n",
        "    \n",
        "    df = pd.merge(trips_df, weather_df, how='left', on='date').drop('date', axis=1)\n",
        "    return df\n",
        "\n",
        "\n",
        "def clean_training_set(trips_df):\n",
        "    return trips_df[(trips_df['Trip_distance'] / 1000) / (trips_df['ETA'] / (60 * 60)) <= 200]\n",
        "\n",
        "\n",
        "def split_X_y(df):\n",
        "    return df.drop(['ETA', 'ID'], axis=1), df['ETA']\n",
        "\n",
        "\n",
        "train = pd.read_csv(os.path.join(files_directory, 'Train.csv'))\n",
        "submission_test_set = pd.read_csv(os.path.join(files_directory, 'Test.csv'))\n",
        "weather = pd.read_csv(os.path.join(files_directory, 'Weather.csv'))\n",
        "\n",
        "train = train.sort_values('Timestamp', ascending=False)\n",
        "train = clean_training_set(train)\n",
        "\n",
        "submission_test_set = add_weather(submission_test_set, weather)\n",
        "\n",
        "train = pre_process(train)\n",
        "submission_test_set = pre_process(submission_test_set)\n",
        "\n",
        "full_train = train.copy()\n",
        "\n",
        "print('splitting into test, validation and training sets')\n",
        "test = train.iloc[:8000]\n",
        "train = train.iloc[8000:]\n",
        "\n",
        "val = train.iloc[:8000]\n",
        "train = train.iloc[8000:]\n",
        "\n",
        "X_train, y_train = split_X_y(train)\n",
        "X_val, y_val = split_X_y(val)\n",
        "X_test, y_test = split_X_y(test)\n",
        "\n"
      ],
      "execution_count": 16,
      "outputs": [
        {
          "output_type": "stream",
          "text": [
            "splitting into test, validation and training sets\n"
          ],
          "name": "stdout"
        }
      ]
    },
    {
      "cell_type": "code",
      "metadata": {
        "id": "zgurQ_xutcQ-",
        "colab_type": "code",
        "colab": {
          "base_uri": "https://localhost:8080/",
          "height": 765
        },
        "outputId": "6f1dada6-2224-49f8-d04a-9436fb1912ba"
      },
      "source": [
        "model = CatBoostRegressor(\n",
        "    loss_function='RMSE',\n",
        "    iterations=7000,\n",
        "    grow_policy='Lossguide',\n",
        "    bootstrap_type='Bayesian',\n",
        "    max_leaves=120,\n",
        "    task_type='GPU' if IN_COLLAB else 'CPU'\n",
        ")\n",
        "\n",
        "if not SUBMIT:\n",
        "    print('training catboost model')\n",
        "    model.fit(\n",
        "        X_train, y_train,\n",
        "        eval_set=(X_val, y_val),\n",
        "        verbose=200\n",
        "    )\n",
        "    \n",
        "    rms = sqrt(mean_squared_error(y_test, model.predict(X_test)))\n",
        "    print('test score: ', rms, 'over', X_test.shape[0], 'test samples')\n",
        "    print('\\nWARNING: NO SUBMISSION CSV WRITTEN')\n",
        "\n",
        "else:\n",
        "    print('training catboost model on all data')\n",
        "    model.fit(\n",
        "        full_train.drop(['ID', 'ETA'], axis=1), full_train['ETA'],\n",
        "        verbose=200\n",
        "    )\n",
        "    \n",
        "    submission = pd.DataFrame({'ID': submission_test_set['ID'], 'ETA': model.predict(submission_test_set.drop('ID', axis=1))})\n",
        "    submission.to_csv('submission.csv', index=False)\n",
        "    print('\\nSubmission CSV file written')\n"
      ],
      "execution_count": 21,
      "outputs": [
        {
          "output_type": "stream",
          "text": [
            "training catboost model on all data\n",
            "Learning rate set to 0.039221\n",
            "0:\tlearn: 544.8409169\ttotal: 37.6ms\tremaining: 4m 23s\n",
            "200:\tlearn: 163.3989470\ttotal: 6.77s\tremaining: 3m 48s\n",
            "400:\tlearn: 145.8252614\ttotal: 13.6s\tremaining: 3m 43s\n",
            "600:\tlearn: 136.9249295\ttotal: 20.4s\tremaining: 3m 37s\n",
            "800:\tlearn: 130.8659360\ttotal: 27.1s\tremaining: 3m 29s\n",
            "1000:\tlearn: 125.9746321\ttotal: 33.9s\tremaining: 3m 23s\n",
            "1200:\tlearn: 122.0813149\ttotal: 40.7s\tremaining: 3m 16s\n",
            "1400:\tlearn: 118.7021283\ttotal: 47.3s\tremaining: 3m 9s\n",
            "1600:\tlearn: 115.8589387\ttotal: 53.9s\tremaining: 3m 1s\n",
            "1800:\tlearn: 113.3657736\ttotal: 1m\tremaining: 2m 54s\n",
            "2000:\tlearn: 111.0563865\ttotal: 1m 7s\tremaining: 2m 47s\n",
            "2200:\tlearn: 109.0081068\ttotal: 1m 13s\tremaining: 2m 40s\n",
            "2400:\tlearn: 107.1460896\ttotal: 1m 20s\tremaining: 2m 34s\n",
            "2600:\tlearn: 105.4255009\ttotal: 1m 27s\tremaining: 2m 27s\n",
            "2800:\tlearn: 103.9383288\ttotal: 1m 34s\tremaining: 2m 20s\n",
            "3000:\tlearn: 102.4489380\ttotal: 1m 40s\tremaining: 2m 14s\n",
            "3200:\tlearn: 101.0285170\ttotal: 1m 47s\tremaining: 2m 7s\n",
            "3400:\tlearn: 99.7594972\ttotal: 1m 54s\tremaining: 2m\n",
            "3600:\tlearn: 98.5420802\ttotal: 2m\tremaining: 1m 53s\n",
            "3800:\tlearn: 97.3719425\ttotal: 2m 7s\tremaining: 1m 47s\n",
            "4000:\tlearn: 96.2681269\ttotal: 2m 13s\tremaining: 1m 40s\n",
            "4200:\tlearn: 95.2022457\ttotal: 2m 20s\tremaining: 1m 33s\n",
            "4400:\tlearn: 94.1975544\ttotal: 2m 27s\tremaining: 1m 27s\n",
            "4600:\tlearn: 93.2975359\ttotal: 2m 34s\tremaining: 1m 20s\n",
            "4800:\tlearn: 92.3644367\ttotal: 2m 40s\tremaining: 1m 13s\n",
            "5000:\tlearn: 91.4590562\ttotal: 2m 47s\tremaining: 1m 6s\n",
            "5200:\tlearn: 90.6061249\ttotal: 2m 54s\tremaining: 1m\n",
            "5400:\tlearn: 89.7959548\ttotal: 3m 1s\tremaining: 53.6s\n",
            "5600:\tlearn: 89.0242299\ttotal: 3m 7s\tremaining: 46.9s\n",
            "5800:\tlearn: 88.2472257\ttotal: 3m 14s\tremaining: 40.2s\n",
            "6000:\tlearn: 87.5532049\ttotal: 3m 21s\tremaining: 33.5s\n",
            "6200:\tlearn: 86.8610989\ttotal: 3m 27s\tremaining: 26.8s\n",
            "6400:\tlearn: 86.1711617\ttotal: 3m 34s\tremaining: 20.1s\n",
            "6600:\tlearn: 85.5629672\ttotal: 3m 41s\tremaining: 13.4s\n",
            "6800:\tlearn: 84.9591053\ttotal: 3m 47s\tremaining: 6.67s\n",
            "6999:\tlearn: 84.3635164\ttotal: 3m 54s\tremaining: 0us\n",
            "\n",
            "Submission CSV file written\n"
          ],
          "name": "stdout"
        }
      ]
    },
    {
      "cell_type": "code",
      "metadata": {
        "id": "hCdvDUY7s8mn",
        "colab_type": "code",
        "colab": {}
      },
      "source": [
        ""
      ],
      "execution_count": null,
      "outputs": []
    }
  ]
}