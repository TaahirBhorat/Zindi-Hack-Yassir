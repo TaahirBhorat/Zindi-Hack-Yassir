{
  "nbformat": 4,
  "nbformat_minor": 0,
  "metadata": {
    "colab": {
      "name": "Untitled1.ipynb",
      "provenance": [],
      "include_colab_link": true
    },
    "kernelspec": {
      "name": "python3",
      "display_name": "Python 3"
    }
  },
  "cells": [
    {
      "cell_type": "markdown",
      "metadata": {
        "id": "view-in-github",
        "colab_type": "text"
      },
      "source": [
        "<a href=\"https://colab.research.google.com/github/TaahirBhorat/Zindi-Hack-Yassir/blob/master/Catboost-SUBMISSION.ipynb\" target=\"_parent\"><img src=\"https://colab.research.google.com/assets/colab-badge.svg\" alt=\"Open In Colab\"/></a>"
      ]
    },
    {
      "cell_type": "code",
      "metadata": {
        "id": "If_7tZUPsABc",
        "colab_type": "code",
        "colab": {
          "base_uri": "https://localhost:8080/",
          "height": 34
        },
        "outputId": "3075eb10-c597-45c2-ab05-904c941bc3e5"
      },
      "source": [
        "import pandas as pd\n",
        "import numpy as np\n",
        "import seaborn as sns\n",
        "from sklearn import model_selection, preprocessing, metrics\n",
        "import matplotlib.pyplot as plt\n",
        "!pip install -q catboost"
      ],
      "execution_count": null,
      "outputs": [
        {
          "output_type": "stream",
          "text": [
            "\u001b[K     |████████████████████████████████| 64.8MB 61kB/s \n",
            "\u001b[?25h"
          ],
          "name": "stdout"
        }
      ]
    },
    {
      "cell_type": "code",
      "metadata": {
        "id": "Zde4GzS7sTNU",
        "colab_type": "code",
        "colab": {}
      },
      "source": [
        "train = pd.read_csv('/content/drive/My Drive/Zindi/Train.csv')"
      ],
      "execution_count": null,
      "outputs": []
    },
    {
      "cell_type": "code",
      "metadata": {
        "id": "ggnnHtE2tgth",
        "colab_type": "code",
        "colab": {
          "base_uri": "https://localhost:8080/",
          "height": 224
        },
        "outputId": "00cdf8a6-fe08-47dd-a113-ea353ef3608e"
      },
      "source": [
        "train.head()\n"
      ],
      "execution_count": null,
      "outputs": [
        {
          "output_type": "execute_result",
          "data": {
            "text/html": [
              "<div>\n",
              "<style scoped>\n",
              "    .dataframe tbody tr th:only-of-type {\n",
              "        vertical-align: middle;\n",
              "    }\n",
              "\n",
              "    .dataframe tbody tr th {\n",
              "        vertical-align: top;\n",
              "    }\n",
              "\n",
              "    .dataframe thead th {\n",
              "        text-align: right;\n",
              "    }\n",
              "</style>\n",
              "<table border=\"1\" class=\"dataframe\">\n",
              "  <thead>\n",
              "    <tr style=\"text-align: right;\">\n",
              "      <th></th>\n",
              "      <th>ID</th>\n",
              "      <th>Origin_lat</th>\n",
              "      <th>Origin_lon</th>\n",
              "      <th>Destination_lat</th>\n",
              "      <th>Destination_lon</th>\n",
              "      <th>Trip_distance</th>\n",
              "      <th>ETA</th>\n",
              "      <th>pickup_pca0</th>\n",
              "      <th>pickup_pca1</th>\n",
              "      <th>dropoff_pca0</th>\n",
              "      <th>dropoff_pca1</th>\n",
              "      <th>is_peak_traffic</th>\n",
              "      <th>Day_in_week</th>\n",
              "      <th>Day_in_year</th>\n",
              "      <th>Month</th>\n",
              "    </tr>\n",
              "  </thead>\n",
              "  <tbody>\n",
              "    <tr>\n",
              "      <th>0</th>\n",
              "      <td>000FLWA8</td>\n",
              "      <td>3.258</td>\n",
              "      <td>36.777</td>\n",
              "      <td>3.003</td>\n",
              "      <td>36.718</td>\n",
              "      <td>39627</td>\n",
              "      <td>2784</td>\n",
              "      <td>0.200067</td>\n",
              "      <td>-0.052816</td>\n",
              "      <td>-0.050092</td>\n",
              "      <td>0.024168</td>\n",
              "      <td>0</td>\n",
              "      <td>2</td>\n",
              "      <td>338</td>\n",
              "      <td>12</td>\n",
              "    </tr>\n",
              "    <tr>\n",
              "      <th>1</th>\n",
              "      <td>000RGOAM</td>\n",
              "      <td>3.087</td>\n",
              "      <td>36.707</td>\n",
              "      <td>3.081</td>\n",
              "      <td>36.727</td>\n",
              "      <td>3918</td>\n",
              "      <td>576</td>\n",
              "      <td>0.034477</td>\n",
              "      <td>0.029167</td>\n",
              "      <td>0.027070</td>\n",
              "      <td>0.009644</td>\n",
              "      <td>0</td>\n",
              "      <td>1</td>\n",
              "      <td>344</td>\n",
              "      <td>12</td>\n",
              "    </tr>\n",
              "    <tr>\n",
              "      <th>2</th>\n",
              "      <td>001QSGIH</td>\n",
              "      <td>3.144</td>\n",
              "      <td>36.739</td>\n",
              "      <td>3.088</td>\n",
              "      <td>36.742</td>\n",
              "      <td>7265</td>\n",
              "      <td>526</td>\n",
              "      <td>0.089057</td>\n",
              "      <td>-0.006805</td>\n",
              "      <td>0.032986</td>\n",
              "      <td>-0.005816</td>\n",
              "      <td>0</td>\n",
              "      <td>5</td>\n",
              "      <td>327</td>\n",
              "      <td>11</td>\n",
              "    </tr>\n",
              "    <tr>\n",
              "      <th>3</th>\n",
              "      <td>002ACV6R</td>\n",
              "      <td>3.239</td>\n",
              "      <td>36.784</td>\n",
              "      <td>3.054</td>\n",
              "      <td>36.763</td>\n",
              "      <td>23350</td>\n",
              "      <td>3130</td>\n",
              "      <td>0.180617</td>\n",
              "      <td>-0.058447</td>\n",
              "      <td>-0.002421</td>\n",
              "      <td>-0.024345</td>\n",
              "      <td>0</td>\n",
              "      <td>6</td>\n",
              "      <td>335</td>\n",
              "      <td>12</td>\n",
              "    </tr>\n",
              "    <tr>\n",
              "      <th>4</th>\n",
              "      <td>0039Y7A8</td>\n",
              "      <td>2.912</td>\n",
              "      <td>36.707</td>\n",
              "      <td>3.207</td>\n",
              "      <td>36.698</td>\n",
              "      <td>36613</td>\n",
              "      <td>2138</td>\n",
              "      <td>-0.140080</td>\n",
              "      <td>0.041611</td>\n",
              "      <td>0.154813</td>\n",
              "      <td>0.029611</td>\n",
              "      <td>0</td>\n",
              "      <td>1</td>\n",
              "      <td>351</td>\n",
              "      <td>12</td>\n",
              "    </tr>\n",
              "  </tbody>\n",
              "</table>\n",
              "</div>"
            ],
            "text/plain": [
              "         ID  Origin_lat  Origin_lon  ...  Day_in_week  Day_in_year  Month\n",
              "0  000FLWA8       3.258      36.777  ...            2          338     12\n",
              "1  000RGOAM       3.087      36.707  ...            1          344     12\n",
              "2  001QSGIH       3.144      36.739  ...            5          327     11\n",
              "3  002ACV6R       3.239      36.784  ...            6          335     12\n",
              "4  0039Y7A8       2.912      36.707  ...            1          351     12\n",
              "\n",
              "[5 rows x 15 columns]"
            ]
          },
          "metadata": {
            "tags": []
          },
          "execution_count": 34
        }
      ]
    },
    {
      "cell_type": "code",
      "metadata": {
        "id": "5ApRKb4iw2qn",
        "colab_type": "code",
        "colab": {
          "base_uri": "https://localhost:8080/",
          "height": 317
        },
        "outputId": "c9003ee9-b646-4cfa-f591-74d7b27bdc46"
      },
      "source": [
        "train.describe()"
      ],
      "execution_count": null,
      "outputs": [
        {
          "output_type": "execute_result",
          "data": {
            "text/html": [
              "<div>\n",
              "<style scoped>\n",
              "    .dataframe tbody tr th:only-of-type {\n",
              "        vertical-align: middle;\n",
              "    }\n",
              "\n",
              "    .dataframe tbody tr th {\n",
              "        vertical-align: top;\n",
              "    }\n",
              "\n",
              "    .dataframe thead th {\n",
              "        text-align: right;\n",
              "    }\n",
              "</style>\n",
              "<table border=\"1\" class=\"dataframe\">\n",
              "  <thead>\n",
              "    <tr style=\"text-align: right;\">\n",
              "      <th></th>\n",
              "      <th>Origin_lat</th>\n",
              "      <th>Origin_lon</th>\n",
              "      <th>Destination_lat</th>\n",
              "      <th>Destination_lon</th>\n",
              "      <th>Trip_distance</th>\n",
              "      <th>ETA</th>\n",
              "      <th>pickup_pca0</th>\n",
              "      <th>pickup_pca1</th>\n",
              "      <th>dropoff_pca0</th>\n",
              "      <th>dropoff_pca1</th>\n",
              "      <th>is_peak_traffic</th>\n",
              "      <th>Day_in_week</th>\n",
              "      <th>Day_in_year</th>\n",
              "      <th>Month</th>\n",
              "    </tr>\n",
              "  </thead>\n",
              "  <tbody>\n",
              "    <tr>\n",
              "      <th>count</th>\n",
              "      <td>83924.000000</td>\n",
              "      <td>83924.000000</td>\n",
              "      <td>83924.000000</td>\n",
              "      <td>83924.000000</td>\n",
              "      <td>83924.000000</td>\n",
              "      <td>83924.000000</td>\n",
              "      <td>83924.000000</td>\n",
              "      <td>83924.000000</td>\n",
              "      <td>83924.000000</td>\n",
              "      <td>83924.000000</td>\n",
              "      <td>83924.0</td>\n",
              "      <td>83924.000000</td>\n",
              "      <td>83924.000000</td>\n",
              "      <td>83924.000000</td>\n",
              "    </tr>\n",
              "    <tr>\n",
              "      <th>mean</th>\n",
              "      <td>3.052406</td>\n",
              "      <td>36.739358</td>\n",
              "      <td>3.056962</td>\n",
              "      <td>36.737732</td>\n",
              "      <td>13527.821410</td>\n",
              "      <td>1111.697762</td>\n",
              "      <td>-0.002330</td>\n",
              "      <td>-0.000649</td>\n",
              "      <td>0.002330</td>\n",
              "      <td>0.000649</td>\n",
              "      <td>0.0</td>\n",
              "      <td>3.003277</td>\n",
              "      <td>337.940482</td>\n",
              "      <td>11.600603</td>\n",
              "    </tr>\n",
              "    <tr>\n",
              "      <th>std</th>\n",
              "      <td>0.096388</td>\n",
              "      <td>0.032074</td>\n",
              "      <td>0.100710</td>\n",
              "      <td>0.032781</td>\n",
              "      <td>9296.716006</td>\n",
              "      <td>563.565486</td>\n",
              "      <td>0.096562</td>\n",
              "      <td>0.031545</td>\n",
              "      <td>0.100980</td>\n",
              "      <td>0.031940</td>\n",
              "      <td>0.0</td>\n",
              "      <td>1.903628</td>\n",
              "      <td>8.700890</td>\n",
              "      <td>0.489777</td>\n",
              "    </tr>\n",
              "    <tr>\n",
              "      <th>min</th>\n",
              "      <td>2.807000</td>\n",
              "      <td>36.589000</td>\n",
              "      <td>2.807000</td>\n",
              "      <td>36.596000</td>\n",
              "      <td>1.000000</td>\n",
              "      <td>1.000000</td>\n",
              "      <td>-0.243605</td>\n",
              "      <td>-0.089226</td>\n",
              "      <td>-0.244316</td>\n",
              "      <td>-0.088584</td>\n",
              "      <td>0.0</td>\n",
              "      <td>0.000000</td>\n",
              "      <td>323.000000</td>\n",
              "      <td>11.000000</td>\n",
              "    </tr>\n",
              "    <tr>\n",
              "      <th>25%</th>\n",
              "      <td>2.994000</td>\n",
              "      <td>36.721000</td>\n",
              "      <td>2.995000</td>\n",
              "      <td>36.718000</td>\n",
              "      <td>6108.000000</td>\n",
              "      <td>701.000000</td>\n",
              "      <td>-0.060490</td>\n",
              "      <td>-0.019361</td>\n",
              "      <td>-0.057711</td>\n",
              "      <td>-0.017579</td>\n",
              "      <td>0.0</td>\n",
              "      <td>1.000000</td>\n",
              "      <td>331.000000</td>\n",
              "      <td>11.000000</td>\n",
              "    </tr>\n",
              "    <tr>\n",
              "      <th>50%</th>\n",
              "      <td>3.046000</td>\n",
              "      <td>36.742000</td>\n",
              "      <td>3.049000</td>\n",
              "      <td>36.742000</td>\n",
              "      <td>11731.500000</td>\n",
              "      <td>1054.000000</td>\n",
              "      <td>-0.009546</td>\n",
              "      <td>-0.003619</td>\n",
              "      <td>-0.006555</td>\n",
              "      <td>-0.003127</td>\n",
              "      <td>0.0</td>\n",
              "      <td>3.000000</td>\n",
              "      <td>338.000000</td>\n",
              "      <td>12.000000</td>\n",
              "    </tr>\n",
              "    <tr>\n",
              "      <th>75%</th>\n",
              "      <td>3.095000</td>\n",
              "      <td>36.760000</td>\n",
              "      <td>3.109000</td>\n",
              "      <td>36.760000</td>\n",
              "      <td>19369.000000</td>\n",
              "      <td>1456.000000</td>\n",
              "      <td>0.042026</td>\n",
              "      <td>0.014697</td>\n",
              "      <td>0.053862</td>\n",
              "      <td>0.017761</td>\n",
              "      <td>0.0</td>\n",
              "      <td>5.000000</td>\n",
              "      <td>345.000000</td>\n",
              "      <td>12.000000</td>\n",
              "    </tr>\n",
              "    <tr>\n",
              "      <th>max</th>\n",
              "      <td>3.381000</td>\n",
              "      <td>36.820000</td>\n",
              "      <td>3.381000</td>\n",
              "      <td>36.819000</td>\n",
              "      <td>62028.000000</td>\n",
              "      <td>5238.000000</td>\n",
              "      <td>0.326097</td>\n",
              "      <td>0.153482</td>\n",
              "      <td>0.326097</td>\n",
              "      <td>0.146428</td>\n",
              "      <td>0.0</td>\n",
              "      <td>6.000000</td>\n",
              "      <td>353.000000</td>\n",
              "      <td>12.000000</td>\n",
              "    </tr>\n",
              "  </tbody>\n",
              "</table>\n",
              "</div>"
            ],
            "text/plain": [
              "         Origin_lat    Origin_lon  ...   Day_in_year         Month\n",
              "count  83924.000000  83924.000000  ...  83924.000000  83924.000000\n",
              "mean       3.052406     36.739358  ...    337.940482     11.600603\n",
              "std        0.096388      0.032074  ...      8.700890      0.489777\n",
              "min        2.807000     36.589000  ...    323.000000     11.000000\n",
              "25%        2.994000     36.721000  ...    331.000000     11.000000\n",
              "50%        3.046000     36.742000  ...    338.000000     12.000000\n",
              "75%        3.095000     36.760000  ...    345.000000     12.000000\n",
              "max        3.381000     36.820000  ...    353.000000     12.000000\n",
              "\n",
              "[8 rows x 14 columns]"
            ]
          },
          "metadata": {
            "tags": []
          },
          "execution_count": 35
        }
      ]
    },
    {
      "cell_type": "code",
      "metadata": {
        "id": "f8aSSkK_xBFM",
        "colab_type": "code",
        "colab": {
          "base_uri": "https://localhost:8080/",
          "height": 170
        },
        "outputId": "830dc03b-f2a9-4cbe-bedf-b7e5d7628a2a"
      },
      "source": [
        "train.isnull().sum()"
      ],
      "execution_count": null,
      "outputs": [
        {
          "output_type": "execute_result",
          "data": {
            "text/plain": [
              "ID                 0\n",
              "Timestamp          0\n",
              "Origin_lat         0\n",
              "Origin_lon         0\n",
              "Destination_lat    0\n",
              "Destination_lon    0\n",
              "Trip_distance      0\n",
              "ETA                0\n",
              "dtype: int64"
            ]
          },
          "metadata": {
            "tags": []
          },
          "execution_count": 9
        }
      ]
    },
    {
      "cell_type": "code",
      "metadata": {
        "id": "h4Dr28W3xJuY",
        "colab_type": "code",
        "colab": {
          "base_uri": "https://localhost:8080/",
          "height": 34
        },
        "outputId": "7b2b9e32-75f9-4a33-b6d0-4573997b3823"
      },
      "source": [
        "train.shape[0]"
      ],
      "execution_count": null,
      "outputs": [
        {
          "output_type": "execute_result",
          "data": {
            "text/plain": [
              "83924"
            ]
          },
          "metadata": {
            "tags": []
          },
          "execution_count": 11
        }
      ]
    },
    {
      "cell_type": "code",
      "metadata": {
        "id": "ittWHv9by6iA",
        "colab_type": "code",
        "colab": {}
      },
      "source": [
        "from sklearn.cluster import MiniBatchKMeans\n",
        "import numpy as np\n",
        "\n",
        "arr = np.vstack((train[['Origin_lat', 'Origin_lon']].values,\n",
        "                    train[['Destination_lat', 'Destination_lon']].values))\n",
        "sample_ind = np.random.permutation(len(arr))\n",
        "kmeans =MiniBatchKMeans(n_clusters=90, batch_size=10000).fit(arr[sample_ind])"
      ],
      "execution_count": null,
      "outputs": []
    },
    {
      "cell_type": "code",
      "metadata": {
        "id": "NNxnDT_16F_9",
        "colab_type": "code",
        "colab": {}
      },
      "source": [
        "train.loc[:, 'pickup_cluster'] = kmeans.predict(train[['Origin_lat', 'Origin_lon']])\n",
        "\n",
        "train.loc[:, 'dropoff_cluster'] = kmeans.predict(train[['Destination_lat', 'Destination_lon']])"
      ],
      "execution_count": null,
      "outputs": []
    },
    {
      "cell_type": "code",
      "metadata": {
        "id": "gb0fpncC7Zu6",
        "colab_type": "code",
        "colab": {}
      },
      "source": [
        "arr = np.vstack((train[['Origin_lat', 'Origin_lon']].values,\n",
        "                    train[['Destination_lat', 'Destination_lon']].values))\n",
        "\n",
        "from sklearn.decomposition import PCA\n",
        "pca = PCA().fit(arr)\n",
        "train['pickup_pca0'] = pca.transform(train[['Origin_lat', 'Origin_lon']])[:, 0]\n",
        "train['pickup_pca1'] = pca.transform(train[['Origin_lat', 'Origin_lon']])[:, 1]\n",
        "train['dropoff_pca0'] = pca.transform(train[['Destination_lat', 'Destination_lon']])[:, 0]\n",
        "train['dropoff_pca1'] = pca.transform(train[['Destination_lat', 'Destination_lon']])[:, 1]"
      ],
      "execution_count": null,
      "outputs": []
    },
    {
      "cell_type": "code",
      "metadata": {
        "id": "LuETwlcx7jh6",
        "colab_type": "code",
        "colab": {
          "base_uri": "https://localhost:8080/",
          "height": 698
        },
        "outputId": "0de14a75-5606-4463-d3f0-3eda8d5fbbb3"
      },
      "source": [
        "StartTime = pd.to_datetime(train['Timestamp'], infer_datetime_format=True)"
      ],
      "execution_count": null,
      "outputs": [
        {
          "output_type": "error",
          "ename": "KeyError",
          "evalue": "ignored",
          "traceback": [
            "\u001b[0;31m---------------------------------------------------------------------------\u001b[0m",
            "\u001b[0;31mKeyError\u001b[0m                                  Traceback (most recent call last)",
            "\u001b[0;32m/usr/local/lib/python3.6/dist-packages/pandas/core/indexes/base.py\u001b[0m in \u001b[0;36mget_loc\u001b[0;34m(self, key, method, tolerance)\u001b[0m\n\u001b[1;32m   2645\u001b[0m             \u001b[0;32mtry\u001b[0m\u001b[0;34m:\u001b[0m\u001b[0;34m\u001b[0m\u001b[0;34m\u001b[0m\u001b[0m\n\u001b[0;32m-> 2646\u001b[0;31m                 \u001b[0;32mreturn\u001b[0m \u001b[0mself\u001b[0m\u001b[0;34m.\u001b[0m\u001b[0m_engine\u001b[0m\u001b[0;34m.\u001b[0m\u001b[0mget_loc\u001b[0m\u001b[0;34m(\u001b[0m\u001b[0mkey\u001b[0m\u001b[0;34m)\u001b[0m\u001b[0;34m\u001b[0m\u001b[0;34m\u001b[0m\u001b[0m\n\u001b[0m\u001b[1;32m   2647\u001b[0m             \u001b[0;32mexcept\u001b[0m \u001b[0mKeyError\u001b[0m\u001b[0;34m:\u001b[0m\u001b[0;34m\u001b[0m\u001b[0;34m\u001b[0m\u001b[0m\n",
            "\u001b[0;32mpandas/_libs/index.pyx\u001b[0m in \u001b[0;36mpandas._libs.index.IndexEngine.get_loc\u001b[0;34m()\u001b[0m\n",
            "\u001b[0;32mpandas/_libs/index.pyx\u001b[0m in \u001b[0;36mpandas._libs.index.IndexEngine.get_loc\u001b[0;34m()\u001b[0m\n",
            "\u001b[0;32mpandas/_libs/hashtable_class_helper.pxi\u001b[0m in \u001b[0;36mpandas._libs.hashtable.PyObjectHashTable.get_item\u001b[0;34m()\u001b[0m\n",
            "\u001b[0;32mpandas/_libs/hashtable_class_helper.pxi\u001b[0m in \u001b[0;36mpandas._libs.hashtable.PyObjectHashTable.get_item\u001b[0;34m()\u001b[0m\n",
            "\u001b[0;31mKeyError\u001b[0m: 'Timestamp'",
            "\nDuring handling of the above exception, another exception occurred:\n",
            "\u001b[0;31mKeyError\u001b[0m                                  Traceback (most recent call last)",
            "\u001b[0;32m<ipython-input-26-a82c1eadc660>\u001b[0m in \u001b[0;36m<module>\u001b[0;34m()\u001b[0m\n\u001b[0;32m----> 1\u001b[0;31m \u001b[0mStartTime\u001b[0m \u001b[0;34m=\u001b[0m \u001b[0mpd\u001b[0m\u001b[0;34m.\u001b[0m\u001b[0mto_datetime\u001b[0m\u001b[0;34m(\u001b[0m\u001b[0mtrain\u001b[0m\u001b[0;34m[\u001b[0m\u001b[0;34m'Timestamp'\u001b[0m\u001b[0;34m]\u001b[0m\u001b[0;34m,\u001b[0m \u001b[0minfer_datetime_format\u001b[0m\u001b[0;34m=\u001b[0m\u001b[0;32mTrue\u001b[0m\u001b[0;34m)\u001b[0m\u001b[0;34m\u001b[0m\u001b[0;34m\u001b[0m\u001b[0m\n\u001b[0m",
            "\u001b[0;32m/usr/local/lib/python3.6/dist-packages/pandas/core/frame.py\u001b[0m in \u001b[0;36m__getitem__\u001b[0;34m(self, key)\u001b[0m\n\u001b[1;32m   2798\u001b[0m             \u001b[0;32mif\u001b[0m \u001b[0mself\u001b[0m\u001b[0;34m.\u001b[0m\u001b[0mcolumns\u001b[0m\u001b[0;34m.\u001b[0m\u001b[0mnlevels\u001b[0m \u001b[0;34m>\u001b[0m \u001b[0;36m1\u001b[0m\u001b[0;34m:\u001b[0m\u001b[0;34m\u001b[0m\u001b[0;34m\u001b[0m\u001b[0m\n\u001b[1;32m   2799\u001b[0m                 \u001b[0;32mreturn\u001b[0m \u001b[0mself\u001b[0m\u001b[0;34m.\u001b[0m\u001b[0m_getitem_multilevel\u001b[0m\u001b[0;34m(\u001b[0m\u001b[0mkey\u001b[0m\u001b[0;34m)\u001b[0m\u001b[0;34m\u001b[0m\u001b[0;34m\u001b[0m\u001b[0m\n\u001b[0;32m-> 2800\u001b[0;31m             \u001b[0mindexer\u001b[0m \u001b[0;34m=\u001b[0m \u001b[0mself\u001b[0m\u001b[0;34m.\u001b[0m\u001b[0mcolumns\u001b[0m\u001b[0;34m.\u001b[0m\u001b[0mget_loc\u001b[0m\u001b[0;34m(\u001b[0m\u001b[0mkey\u001b[0m\u001b[0;34m)\u001b[0m\u001b[0;34m\u001b[0m\u001b[0;34m\u001b[0m\u001b[0m\n\u001b[0m\u001b[1;32m   2801\u001b[0m             \u001b[0;32mif\u001b[0m \u001b[0mis_integer\u001b[0m\u001b[0;34m(\u001b[0m\u001b[0mindexer\u001b[0m\u001b[0;34m)\u001b[0m\u001b[0;34m:\u001b[0m\u001b[0;34m\u001b[0m\u001b[0;34m\u001b[0m\u001b[0m\n\u001b[1;32m   2802\u001b[0m                 \u001b[0mindexer\u001b[0m \u001b[0;34m=\u001b[0m \u001b[0;34m[\u001b[0m\u001b[0mindexer\u001b[0m\u001b[0;34m]\u001b[0m\u001b[0;34m\u001b[0m\u001b[0;34m\u001b[0m\u001b[0m\n",
            "\u001b[0;32m/usr/local/lib/python3.6/dist-packages/pandas/core/indexes/base.py\u001b[0m in \u001b[0;36mget_loc\u001b[0;34m(self, key, method, tolerance)\u001b[0m\n\u001b[1;32m   2646\u001b[0m                 \u001b[0;32mreturn\u001b[0m \u001b[0mself\u001b[0m\u001b[0;34m.\u001b[0m\u001b[0m_engine\u001b[0m\u001b[0;34m.\u001b[0m\u001b[0mget_loc\u001b[0m\u001b[0;34m(\u001b[0m\u001b[0mkey\u001b[0m\u001b[0;34m)\u001b[0m\u001b[0;34m\u001b[0m\u001b[0;34m\u001b[0m\u001b[0m\n\u001b[1;32m   2647\u001b[0m             \u001b[0;32mexcept\u001b[0m \u001b[0mKeyError\u001b[0m\u001b[0;34m:\u001b[0m\u001b[0;34m\u001b[0m\u001b[0;34m\u001b[0m\u001b[0m\n\u001b[0;32m-> 2648\u001b[0;31m                 \u001b[0;32mreturn\u001b[0m \u001b[0mself\u001b[0m\u001b[0;34m.\u001b[0m\u001b[0m_engine\u001b[0m\u001b[0;34m.\u001b[0m\u001b[0mget_loc\u001b[0m\u001b[0;34m(\u001b[0m\u001b[0mself\u001b[0m\u001b[0;34m.\u001b[0m\u001b[0m_maybe_cast_indexer\u001b[0m\u001b[0;34m(\u001b[0m\u001b[0mkey\u001b[0m\u001b[0;34m)\u001b[0m\u001b[0;34m)\u001b[0m\u001b[0;34m\u001b[0m\u001b[0;34m\u001b[0m\u001b[0m\n\u001b[0m\u001b[1;32m   2649\u001b[0m         \u001b[0mindexer\u001b[0m \u001b[0;34m=\u001b[0m \u001b[0mself\u001b[0m\u001b[0;34m.\u001b[0m\u001b[0mget_indexer\u001b[0m\u001b[0;34m(\u001b[0m\u001b[0;34m[\u001b[0m\u001b[0mkey\u001b[0m\u001b[0;34m]\u001b[0m\u001b[0;34m,\u001b[0m \u001b[0mmethod\u001b[0m\u001b[0;34m=\u001b[0m\u001b[0mmethod\u001b[0m\u001b[0;34m,\u001b[0m \u001b[0mtolerance\u001b[0m\u001b[0;34m=\u001b[0m\u001b[0mtolerance\u001b[0m\u001b[0;34m)\u001b[0m\u001b[0;34m\u001b[0m\u001b[0;34m\u001b[0m\u001b[0m\n\u001b[1;32m   2650\u001b[0m         \u001b[0;32mif\u001b[0m \u001b[0mindexer\u001b[0m\u001b[0;34m.\u001b[0m\u001b[0mndim\u001b[0m \u001b[0;34m>\u001b[0m \u001b[0;36m1\u001b[0m \u001b[0;32mor\u001b[0m \u001b[0mindexer\u001b[0m\u001b[0;34m.\u001b[0m\u001b[0msize\u001b[0m \u001b[0;34m>\u001b[0m \u001b[0;36m1\u001b[0m\u001b[0;34m:\u001b[0m\u001b[0;34m\u001b[0m\u001b[0;34m\u001b[0m\u001b[0m\n",
            "\u001b[0;32mpandas/_libs/index.pyx\u001b[0m in \u001b[0;36mpandas._libs.index.IndexEngine.get_loc\u001b[0;34m()\u001b[0m\n",
            "\u001b[0;32mpandas/_libs/index.pyx\u001b[0m in \u001b[0;36mpandas._libs.index.IndexEngine.get_loc\u001b[0;34m()\u001b[0m\n",
            "\u001b[0;32mpandas/_libs/hashtable_class_helper.pxi\u001b[0m in \u001b[0;36mpandas._libs.hashtable.PyObjectHashTable.get_item\u001b[0;34m()\u001b[0m\n",
            "\u001b[0;32mpandas/_libs/hashtable_class_helper.pxi\u001b[0m in \u001b[0;36mpandas._libs.hashtable.PyObjectHashTable.get_item\u001b[0;34m()\u001b[0m\n",
            "\u001b[0;31mKeyError\u001b[0m: 'Timestamp'"
          ]
        }
      ]
    },
    {
      "cell_type": "code",
      "metadata": {
        "id": "yHAhuPBzAFB5",
        "colab_type": "code",
        "colab": {
          "base_uri": "https://localhost:8080/",
          "height": 358
        },
        "outputId": "eefb4f67-8b43-47c6-82c2-4b982d2158d1"
      },
      "source": [
        "train['is_peak_traffic'] = [1 if (5<i<9 or 15<i<20) else 0 for i in StartTime.dt.hour]\n",
        "train['Day_in_week'] = StartTime.dt.dayofweek\n",
        "train['Day_in_year'] = StartTime.dt.dayofyear\n",
        "train['Month'] = StartTime.dt.month\n",
        "train = train.drop('Timestamp', axis=1)\n",
        "train = train.drop('Timestamp', axis=1)\n"
      ],
      "execution_count": null,
      "outputs": [
        {
          "output_type": "error",
          "ename": "KeyError",
          "evalue": "ignored",
          "traceback": [
            "\u001b[0;31m---------------------------------------------------------------------------\u001b[0m",
            "\u001b[0;31mKeyError\u001b[0m                                  Traceback (most recent call last)",
            "\u001b[0;32m<ipython-input-36-1fc7fef2165a>\u001b[0m in \u001b[0;36m<module>\u001b[0;34m()\u001b[0m\n\u001b[1;32m      3\u001b[0m \u001b[0mtrain\u001b[0m\u001b[0;34m[\u001b[0m\u001b[0;34m'Day_in_year'\u001b[0m\u001b[0;34m]\u001b[0m \u001b[0;34m=\u001b[0m \u001b[0mStartTime\u001b[0m\u001b[0;34m.\u001b[0m\u001b[0mdt\u001b[0m\u001b[0;34m.\u001b[0m\u001b[0mdayofyear\u001b[0m\u001b[0;34m\u001b[0m\u001b[0;34m\u001b[0m\u001b[0m\n\u001b[1;32m      4\u001b[0m \u001b[0mtrain\u001b[0m\u001b[0;34m[\u001b[0m\u001b[0;34m'Month'\u001b[0m\u001b[0;34m]\u001b[0m \u001b[0;34m=\u001b[0m \u001b[0mStartTime\u001b[0m\u001b[0;34m.\u001b[0m\u001b[0mdt\u001b[0m\u001b[0;34m.\u001b[0m\u001b[0mmonth\u001b[0m\u001b[0;34m\u001b[0m\u001b[0;34m\u001b[0m\u001b[0m\n\u001b[0;32m----> 5\u001b[0;31m \u001b[0mtrain\u001b[0m \u001b[0;34m=\u001b[0m \u001b[0mtrain\u001b[0m\u001b[0;34m.\u001b[0m\u001b[0mdrop\u001b[0m\u001b[0;34m(\u001b[0m\u001b[0;34m'Timestamp'\u001b[0m\u001b[0;34m,\u001b[0m \u001b[0maxis\u001b[0m\u001b[0;34m=\u001b[0m\u001b[0;36m1\u001b[0m\u001b[0;34m)\u001b[0m\u001b[0;34m\u001b[0m\u001b[0;34m\u001b[0m\u001b[0m\n\u001b[0m\u001b[1;32m      6\u001b[0m \u001b[0mtrain\u001b[0m \u001b[0;34m=\u001b[0m \u001b[0mtrain\u001b[0m\u001b[0;34m.\u001b[0m\u001b[0mdrop\u001b[0m\u001b[0;34m(\u001b[0m\u001b[0;34m'Timestamp'\u001b[0m\u001b[0;34m,\u001b[0m \u001b[0maxis\u001b[0m\u001b[0;34m=\u001b[0m\u001b[0;36m1\u001b[0m\u001b[0;34m)\u001b[0m\u001b[0;34m\u001b[0m\u001b[0;34m\u001b[0m\u001b[0m\n",
            "\u001b[0;32m/usr/local/lib/python3.6/dist-packages/pandas/core/frame.py\u001b[0m in \u001b[0;36mdrop\u001b[0;34m(self, labels, axis, index, columns, level, inplace, errors)\u001b[0m\n\u001b[1;32m   3995\u001b[0m             \u001b[0mlevel\u001b[0m\u001b[0;34m=\u001b[0m\u001b[0mlevel\u001b[0m\u001b[0;34m,\u001b[0m\u001b[0;34m\u001b[0m\u001b[0;34m\u001b[0m\u001b[0m\n\u001b[1;32m   3996\u001b[0m             \u001b[0minplace\u001b[0m\u001b[0;34m=\u001b[0m\u001b[0minplace\u001b[0m\u001b[0;34m,\u001b[0m\u001b[0;34m\u001b[0m\u001b[0;34m\u001b[0m\u001b[0m\n\u001b[0;32m-> 3997\u001b[0;31m             \u001b[0merrors\u001b[0m\u001b[0;34m=\u001b[0m\u001b[0merrors\u001b[0m\u001b[0;34m,\u001b[0m\u001b[0;34m\u001b[0m\u001b[0;34m\u001b[0m\u001b[0m\n\u001b[0m\u001b[1;32m   3998\u001b[0m         )\n\u001b[1;32m   3999\u001b[0m \u001b[0;34m\u001b[0m\u001b[0m\n",
            "\u001b[0;32m/usr/local/lib/python3.6/dist-packages/pandas/core/generic.py\u001b[0m in \u001b[0;36mdrop\u001b[0;34m(self, labels, axis, index, columns, level, inplace, errors)\u001b[0m\n\u001b[1;32m   3934\u001b[0m         \u001b[0;32mfor\u001b[0m \u001b[0maxis\u001b[0m\u001b[0;34m,\u001b[0m \u001b[0mlabels\u001b[0m \u001b[0;32min\u001b[0m \u001b[0maxes\u001b[0m\u001b[0;34m.\u001b[0m\u001b[0mitems\u001b[0m\u001b[0;34m(\u001b[0m\u001b[0;34m)\u001b[0m\u001b[0;34m:\u001b[0m\u001b[0;34m\u001b[0m\u001b[0;34m\u001b[0m\u001b[0m\n\u001b[1;32m   3935\u001b[0m             \u001b[0;32mif\u001b[0m \u001b[0mlabels\u001b[0m \u001b[0;32mis\u001b[0m \u001b[0;32mnot\u001b[0m \u001b[0;32mNone\u001b[0m\u001b[0;34m:\u001b[0m\u001b[0;34m\u001b[0m\u001b[0;34m\u001b[0m\u001b[0m\n\u001b[0;32m-> 3936\u001b[0;31m                 \u001b[0mobj\u001b[0m \u001b[0;34m=\u001b[0m \u001b[0mobj\u001b[0m\u001b[0;34m.\u001b[0m\u001b[0m_drop_axis\u001b[0m\u001b[0;34m(\u001b[0m\u001b[0mlabels\u001b[0m\u001b[0;34m,\u001b[0m \u001b[0maxis\u001b[0m\u001b[0;34m,\u001b[0m \u001b[0mlevel\u001b[0m\u001b[0;34m=\u001b[0m\u001b[0mlevel\u001b[0m\u001b[0;34m,\u001b[0m \u001b[0merrors\u001b[0m\u001b[0;34m=\u001b[0m\u001b[0merrors\u001b[0m\u001b[0;34m)\u001b[0m\u001b[0;34m\u001b[0m\u001b[0;34m\u001b[0m\u001b[0m\n\u001b[0m\u001b[1;32m   3937\u001b[0m \u001b[0;34m\u001b[0m\u001b[0m\n\u001b[1;32m   3938\u001b[0m         \u001b[0;32mif\u001b[0m \u001b[0minplace\u001b[0m\u001b[0;34m:\u001b[0m\u001b[0;34m\u001b[0m\u001b[0;34m\u001b[0m\u001b[0m\n",
            "\u001b[0;32m/usr/local/lib/python3.6/dist-packages/pandas/core/generic.py\u001b[0m in \u001b[0;36m_drop_axis\u001b[0;34m(self, labels, axis, level, errors)\u001b[0m\n\u001b[1;32m   3968\u001b[0m                 \u001b[0mnew_axis\u001b[0m \u001b[0;34m=\u001b[0m \u001b[0maxis\u001b[0m\u001b[0;34m.\u001b[0m\u001b[0mdrop\u001b[0m\u001b[0;34m(\u001b[0m\u001b[0mlabels\u001b[0m\u001b[0;34m,\u001b[0m \u001b[0mlevel\u001b[0m\u001b[0;34m=\u001b[0m\u001b[0mlevel\u001b[0m\u001b[0;34m,\u001b[0m \u001b[0merrors\u001b[0m\u001b[0;34m=\u001b[0m\u001b[0merrors\u001b[0m\u001b[0;34m)\u001b[0m\u001b[0;34m\u001b[0m\u001b[0;34m\u001b[0m\u001b[0m\n\u001b[1;32m   3969\u001b[0m             \u001b[0;32melse\u001b[0m\u001b[0;34m:\u001b[0m\u001b[0;34m\u001b[0m\u001b[0;34m\u001b[0m\u001b[0m\n\u001b[0;32m-> 3970\u001b[0;31m                 \u001b[0mnew_axis\u001b[0m \u001b[0;34m=\u001b[0m \u001b[0maxis\u001b[0m\u001b[0;34m.\u001b[0m\u001b[0mdrop\u001b[0m\u001b[0;34m(\u001b[0m\u001b[0mlabels\u001b[0m\u001b[0;34m,\u001b[0m \u001b[0merrors\u001b[0m\u001b[0;34m=\u001b[0m\u001b[0merrors\u001b[0m\u001b[0;34m)\u001b[0m\u001b[0;34m\u001b[0m\u001b[0;34m\u001b[0m\u001b[0m\n\u001b[0m\u001b[1;32m   3971\u001b[0m             \u001b[0mresult\u001b[0m \u001b[0;34m=\u001b[0m \u001b[0mself\u001b[0m\u001b[0;34m.\u001b[0m\u001b[0mreindex\u001b[0m\u001b[0;34m(\u001b[0m\u001b[0;34m**\u001b[0m\u001b[0;34m{\u001b[0m\u001b[0maxis_name\u001b[0m\u001b[0;34m:\u001b[0m \u001b[0mnew_axis\u001b[0m\u001b[0;34m}\u001b[0m\u001b[0;34m)\u001b[0m\u001b[0;34m\u001b[0m\u001b[0;34m\u001b[0m\u001b[0m\n\u001b[1;32m   3972\u001b[0m \u001b[0;34m\u001b[0m\u001b[0m\n",
            "\u001b[0;32m/usr/local/lib/python3.6/dist-packages/pandas/core/indexes/base.py\u001b[0m in \u001b[0;36mdrop\u001b[0;34m(self, labels, errors)\u001b[0m\n\u001b[1;32m   5016\u001b[0m         \u001b[0;32mif\u001b[0m \u001b[0mmask\u001b[0m\u001b[0;34m.\u001b[0m\u001b[0many\u001b[0m\u001b[0;34m(\u001b[0m\u001b[0;34m)\u001b[0m\u001b[0;34m:\u001b[0m\u001b[0;34m\u001b[0m\u001b[0;34m\u001b[0m\u001b[0m\n\u001b[1;32m   5017\u001b[0m             \u001b[0;32mif\u001b[0m \u001b[0merrors\u001b[0m \u001b[0;34m!=\u001b[0m \u001b[0;34m\"ignore\"\u001b[0m\u001b[0;34m:\u001b[0m\u001b[0;34m\u001b[0m\u001b[0;34m\u001b[0m\u001b[0m\n\u001b[0;32m-> 5018\u001b[0;31m                 \u001b[0;32mraise\u001b[0m \u001b[0mKeyError\u001b[0m\u001b[0;34m(\u001b[0m\u001b[0;34mf\"{labels[mask]} not found in axis\"\u001b[0m\u001b[0;34m)\u001b[0m\u001b[0;34m\u001b[0m\u001b[0;34m\u001b[0m\u001b[0m\n\u001b[0m\u001b[1;32m   5019\u001b[0m             \u001b[0mindexer\u001b[0m \u001b[0;34m=\u001b[0m \u001b[0mindexer\u001b[0m\u001b[0;34m[\u001b[0m\u001b[0;34m~\u001b[0m\u001b[0mmask\u001b[0m\u001b[0;34m]\u001b[0m\u001b[0;34m\u001b[0m\u001b[0;34m\u001b[0m\u001b[0m\n\u001b[1;32m   5020\u001b[0m         \u001b[0;32mreturn\u001b[0m \u001b[0mself\u001b[0m\u001b[0;34m.\u001b[0m\u001b[0mdelete\u001b[0m\u001b[0;34m(\u001b[0m\u001b[0mindexer\u001b[0m\u001b[0;34m)\u001b[0m\u001b[0;34m\u001b[0m\u001b[0;34m\u001b[0m\u001b[0m\n",
            "\u001b[0;31mKeyError\u001b[0m: \"['Timestamp'] not found in axis\""
          ]
        }
      ]
    },
    {
      "cell_type": "code",
      "metadata": {
        "id": "svpY0wGVL9RT",
        "colab_type": "code",
        "colab": {
          "base_uri": "https://localhost:8080/",
          "height": 224
        },
        "outputId": "530227ad-c713-444f-aacd-9e429e896950"
      },
      "source": [
        "train.head()"
      ],
      "execution_count": null,
      "outputs": [
        {
          "output_type": "execute_result",
          "data": {
            "text/html": [
              "<div>\n",
              "<style scoped>\n",
              "    .dataframe tbody tr th:only-of-type {\n",
              "        vertical-align: middle;\n",
              "    }\n",
              "\n",
              "    .dataframe tbody tr th {\n",
              "        vertical-align: top;\n",
              "    }\n",
              "\n",
              "    .dataframe thead th {\n",
              "        text-align: right;\n",
              "    }\n",
              "</style>\n",
              "<table border=\"1\" class=\"dataframe\">\n",
              "  <thead>\n",
              "    <tr style=\"text-align: right;\">\n",
              "      <th></th>\n",
              "      <th>ID</th>\n",
              "      <th>Origin_lat</th>\n",
              "      <th>Origin_lon</th>\n",
              "      <th>Destination_lat</th>\n",
              "      <th>Destination_lon</th>\n",
              "      <th>Trip_distance</th>\n",
              "      <th>ETA</th>\n",
              "      <th>pickup_pca0</th>\n",
              "      <th>pickup_pca1</th>\n",
              "      <th>dropoff_pca0</th>\n",
              "      <th>dropoff_pca1</th>\n",
              "      <th>is_peak_traffic</th>\n",
              "      <th>Day_in_week</th>\n",
              "      <th>Day_in_year</th>\n",
              "      <th>Month</th>\n",
              "    </tr>\n",
              "  </thead>\n",
              "  <tbody>\n",
              "    <tr>\n",
              "      <th>0</th>\n",
              "      <td>000FLWA8</td>\n",
              "      <td>3.258</td>\n",
              "      <td>36.777</td>\n",
              "      <td>3.003</td>\n",
              "      <td>36.718</td>\n",
              "      <td>39627</td>\n",
              "      <td>2784</td>\n",
              "      <td>0.200067</td>\n",
              "      <td>-0.052816</td>\n",
              "      <td>-0.050092</td>\n",
              "      <td>0.024168</td>\n",
              "      <td>0</td>\n",
              "      <td>2</td>\n",
              "      <td>338</td>\n",
              "      <td>12</td>\n",
              "    </tr>\n",
              "    <tr>\n",
              "      <th>1</th>\n",
              "      <td>000RGOAM</td>\n",
              "      <td>3.087</td>\n",
              "      <td>36.707</td>\n",
              "      <td>3.081</td>\n",
              "      <td>36.727</td>\n",
              "      <td>3918</td>\n",
              "      <td>576</td>\n",
              "      <td>0.034477</td>\n",
              "      <td>0.029167</td>\n",
              "      <td>0.027070</td>\n",
              "      <td>0.009644</td>\n",
              "      <td>0</td>\n",
              "      <td>1</td>\n",
              "      <td>344</td>\n",
              "      <td>12</td>\n",
              "    </tr>\n",
              "    <tr>\n",
              "      <th>2</th>\n",
              "      <td>001QSGIH</td>\n",
              "      <td>3.144</td>\n",
              "      <td>36.739</td>\n",
              "      <td>3.088</td>\n",
              "      <td>36.742</td>\n",
              "      <td>7265</td>\n",
              "      <td>526</td>\n",
              "      <td>0.089057</td>\n",
              "      <td>-0.006805</td>\n",
              "      <td>0.032986</td>\n",
              "      <td>-0.005816</td>\n",
              "      <td>0</td>\n",
              "      <td>5</td>\n",
              "      <td>327</td>\n",
              "      <td>11</td>\n",
              "    </tr>\n",
              "    <tr>\n",
              "      <th>3</th>\n",
              "      <td>002ACV6R</td>\n",
              "      <td>3.239</td>\n",
              "      <td>36.784</td>\n",
              "      <td>3.054</td>\n",
              "      <td>36.763</td>\n",
              "      <td>23350</td>\n",
              "      <td>3130</td>\n",
              "      <td>0.180617</td>\n",
              "      <td>-0.058447</td>\n",
              "      <td>-0.002421</td>\n",
              "      <td>-0.024345</td>\n",
              "      <td>0</td>\n",
              "      <td>6</td>\n",
              "      <td>335</td>\n",
              "      <td>12</td>\n",
              "    </tr>\n",
              "    <tr>\n",
              "      <th>4</th>\n",
              "      <td>0039Y7A8</td>\n",
              "      <td>2.912</td>\n",
              "      <td>36.707</td>\n",
              "      <td>3.207</td>\n",
              "      <td>36.698</td>\n",
              "      <td>36613</td>\n",
              "      <td>2138</td>\n",
              "      <td>-0.140080</td>\n",
              "      <td>0.041611</td>\n",
              "      <td>0.154813</td>\n",
              "      <td>0.029611</td>\n",
              "      <td>0</td>\n",
              "      <td>1</td>\n",
              "      <td>351</td>\n",
              "      <td>12</td>\n",
              "    </tr>\n",
              "  </tbody>\n",
              "</table>\n",
              "</div>"
            ],
            "text/plain": [
              "         ID  Origin_lat  Origin_lon  ...  Day_in_week  Day_in_year  Month\n",
              "0  000FLWA8       3.258      36.777  ...            2          338     12\n",
              "1  000RGOAM       3.087      36.707  ...            1          344     12\n",
              "2  001QSGIH       3.144      36.739  ...            5          327     11\n",
              "3  002ACV6R       3.239      36.784  ...            6          335     12\n",
              "4  0039Y7A8       2.912      36.707  ...            1          351     12\n",
              "\n",
              "[5 rows x 15 columns]"
            ]
          },
          "metadata": {
            "tags": []
          },
          "execution_count": 37
        }
      ]
    },
    {
      "cell_type": "code",
      "metadata": {
        "id": "ucBB0KoqMFpO",
        "colab_type": "code",
        "colab": {
          "base_uri": "https://localhost:8080/",
          "height": 1000
        },
        "outputId": "9a5cef34-8f60-47e0-a5f4-a4289c800bb5"
      },
      "source": [
        "from sklearn.model_selection import train_test_split\n",
        "from catboost import CatBoostRegressor\n",
        "\n",
        "X = train.drop(['ETA', 'ID'], axis=1)\n",
        "y = train['ETA']\n",
        "\n",
        "print('splitting into test, validation and training sets')\n",
        "X_train, X_test, y_train, y_test = train_test_split(X, y, shuffle=True, test_size=0.01)\n",
        "X_val, X_test, y_val, y_test = train_test_split(X, y, shuffle=True, test_size=0.5)\n",
        "\n",
        "model = CatBoostRegressor(\n",
        "    loss_function='RMSE',\n",
        "    iterations=20000,\n",
        "    learning_rate=1.0,\n",
        "    task_type='CPU'\n",
        ")\n",
        "\n",
        "print('training catboost model')\n",
        "model.fit(\n",
        "    X_train, y_train,\n",
        "    eval_set=(X_val, y_val),\n",
        "    verbose=200)"
      ],
      "execution_count": null,
      "outputs": [
        {
          "output_type": "stream",
          "text": [
            "splitting into test, validation and training sets\n",
            "training catboost model\n",
            "0:\tlearn: 265.4156856\ttest: 266.5967890\tbest: 266.5967890 (0)\ttotal: 70.8ms\tremaining: 23m 36s\n",
            "200:\tlearn: 135.9288056\ttest: 136.8686145\tbest: 136.8686145 (200)\ttotal: 3.75s\tremaining: 6m 9s\n",
            "400:\tlearn: 119.2045932\ttest: 120.6330811\tbest: 120.6330811 (400)\ttotal: 7.5s\tremaining: 6m 6s\n",
            "600:\tlearn: 108.5423547\ttest: 110.1844575\tbest: 110.1844575 (600)\ttotal: 11.2s\tremaining: 6m\n",
            "800:\tlearn: 100.6323278\ttest: 102.6130827\tbest: 102.6130827 (800)\ttotal: 14.9s\tremaining: 5m 57s\n",
            "1000:\tlearn: 94.3585008\ttest: 96.4992772\tbest: 96.4992772 (1000)\ttotal: 18.6s\tremaining: 5m 53s\n",
            "1200:\tlearn: 88.9691144\ttest: 91.2224858\tbest: 91.2224858 (1200)\ttotal: 22.4s\tremaining: 5m 49s\n",
            "1400:\tlearn: 84.3650706\ttest: 86.7045340\tbest: 86.7045340 (1400)\ttotal: 26s\tremaining: 5m 45s\n",
            "1600:\tlearn: 80.3316721\ttest: 82.6999454\tbest: 82.6999454 (1600)\ttotal: 29.7s\tremaining: 5m 41s\n",
            "1800:\tlearn: 77.0112797\ttest: 79.3726970\tbest: 79.3726970 (1800)\ttotal: 33.5s\tremaining: 5m 38s\n",
            "2000:\tlearn: 73.8755295\ttest: 76.3135766\tbest: 76.3135766 (2000)\ttotal: 37.2s\tremaining: 5m 34s\n",
            "2200:\tlearn: 71.0963224\ttest: 73.6535765\tbest: 73.6535765 (2200)\ttotal: 40.9s\tremaining: 5m 30s\n",
            "2400:\tlearn: 68.4343724\ttest: 71.1538210\tbest: 71.1538210 (2400)\ttotal: 44.6s\tremaining: 5m 26s\n",
            "2600:\tlearn: 66.1994219\ttest: 68.9079308\tbest: 68.9079308 (2600)\ttotal: 48.2s\tremaining: 5m 22s\n",
            "2800:\tlearn: 64.0286221\ttest: 66.7393218\tbest: 66.7393218 (2800)\ttotal: 51.9s\tremaining: 5m 18s\n",
            "3000:\tlearn: 62.0639595\ttest: 64.9041561\tbest: 64.9041561 (3000)\ttotal: 55.5s\tremaining: 5m 14s\n",
            "3200:\tlearn: 60.2672483\ttest: 63.1704755\tbest: 63.1704755 (3200)\ttotal: 59.2s\tremaining: 5m 10s\n",
            "3400:\tlearn: 58.5390873\ttest: 61.5299180\tbest: 61.5299180 (3400)\ttotal: 1m 2s\tremaining: 5m 6s\n",
            "3600:\tlearn: 56.9714070\ttest: 60.0865938\tbest: 60.0865938 (3600)\ttotal: 1m 6s\tremaining: 5m 2s\n",
            "3800:\tlearn: 55.4819850\ttest: 58.6224402\tbest: 58.6224402 (3800)\ttotal: 1m 10s\tremaining: 4m 59s\n",
            "4000:\tlearn: 54.1166810\ttest: 57.3125493\tbest: 57.3125493 (4000)\ttotal: 1m 13s\tremaining: 4m 55s\n",
            "4200:\tlearn: 52.8493851\ttest: 56.1025180\tbest: 56.1025180 (4200)\ttotal: 1m 17s\tremaining: 4m 51s\n",
            "4400:\tlearn: 51.6008683\ttest: 54.9483496\tbest: 54.9483496 (4400)\ttotal: 1m 21s\tremaining: 4m 47s\n",
            "4600:\tlearn: 50.3856094\ttest: 53.8154456\tbest: 53.8154456 (4600)\ttotal: 1m 24s\tremaining: 4m 43s\n",
            "4800:\tlearn: 49.3262605\ttest: 52.8332187\tbest: 52.8332187 (4800)\ttotal: 1m 28s\tremaining: 4m 39s\n",
            "5000:\tlearn: 48.2305968\ttest: 51.8712796\tbest: 51.8712796 (5000)\ttotal: 1m 32s\tremaining: 4m 35s\n",
            "5200:\tlearn: 47.2902973\ttest: 51.0064072\tbest: 51.0064072 (5200)\ttotal: 1m 35s\tremaining: 4m 32s\n",
            "5400:\tlearn: 46.3665979\ttest: 50.1565758\tbest: 50.1565758 (5400)\ttotal: 1m 39s\tremaining: 4m 28s\n",
            "5600:\tlearn: 45.5460183\ttest: 49.4367841\tbest: 49.4361844 (5598)\ttotal: 1m 42s\tremaining: 4m 24s\n",
            "5800:\tlearn: 44.6748825\ttest: 48.6778342\tbest: 48.6778342 (5800)\ttotal: 1m 46s\tremaining: 4m 20s\n",
            "6000:\tlearn: 43.8367722\ttest: 47.8917184\tbest: 47.8917184 (6000)\ttotal: 1m 50s\tremaining: 4m 17s\n",
            "6200:\tlearn: 43.1081663\ttest: 47.2149444\tbest: 47.2149444 (6200)\ttotal: 1m 53s\tremaining: 4m 13s\n",
            "6400:\tlearn: 42.4126226\ttest: 46.6200377\tbest: 46.6200377 (6400)\ttotal: 1m 57s\tremaining: 4m 9s\n",
            "6600:\tlearn: 41.7453343\ttest: 46.0297627\tbest: 46.0297627 (6600)\ttotal: 2m 1s\tremaining: 4m 5s\n",
            "6800:\tlearn: 41.0980978\ttest: 45.4079204\tbest: 45.4079204 (6800)\ttotal: 2m 4s\tremaining: 4m 2s\n",
            "7000:\tlearn: 40.4864806\ttest: 44.8754179\tbest: 44.8754179 (7000)\ttotal: 2m 8s\tremaining: 3m 58s\n",
            "7200:\tlearn: 39.9030326\ttest: 44.3429652\tbest: 44.3429652 (7200)\ttotal: 2m 12s\tremaining: 3m 54s\n",
            "7400:\tlearn: 39.3480698\ttest: 43.8160072\tbest: 43.8160072 (7400)\ttotal: 2m 15s\tremaining: 3m 50s\n",
            "7600:\tlearn: 38.8112694\ttest: 43.3586397\tbest: 43.3586397 (7600)\ttotal: 2m 19s\tremaining: 3m 47s\n",
            "7800:\tlearn: 38.2754183\ttest: 42.8871920\tbest: 42.8871920 (7800)\ttotal: 2m 22s\tremaining: 3m 43s\n",
            "8000:\tlearn: 37.7769328\ttest: 42.4541013\tbest: 42.4541013 (8000)\ttotal: 2m 26s\tremaining: 3m 39s\n",
            "8200:\tlearn: 37.3036282\ttest: 42.0343040\tbest: 42.0343040 (8200)\ttotal: 2m 30s\tremaining: 3m 35s\n",
            "8400:\tlearn: 36.8456516\ttest: 41.6228029\tbest: 41.6228029 (8400)\ttotal: 2m 33s\tremaining: 3m 32s\n",
            "8600:\tlearn: 36.4590276\ttest: 41.2954351\tbest: 41.2954351 (8600)\ttotal: 2m 37s\tremaining: 3m 28s\n",
            "8800:\tlearn: 36.0728320\ttest: 40.9531013\tbest: 40.9531013 (8800)\ttotal: 2m 40s\tremaining: 3m 24s\n",
            "9000:\tlearn: 35.6723033\ttest: 40.5805340\tbest: 40.5802346 (8999)\ttotal: 2m 44s\tremaining: 3m 21s\n",
            "9200:\tlearn: 35.3080759\ttest: 40.3052042\tbest: 40.3052042 (9200)\ttotal: 2m 48s\tremaining: 3m 17s\n",
            "9400:\tlearn: 34.9391838\ttest: 39.9763286\tbest: 39.9763286 (9400)\ttotal: 2m 51s\tremaining: 3m 13s\n",
            "9600:\tlearn: 34.6042826\ttest: 39.7395980\tbest: 39.7383323 (9590)\ttotal: 2m 55s\tremaining: 3m 9s\n",
            "9800:\tlearn: 34.2570659\ttest: 39.4429003\tbest: 39.4429003 (9800)\ttotal: 2m 59s\tremaining: 3m 6s\n",
            "10000:\tlearn: 33.9643223\ttest: 39.1771315\tbest: 39.1771315 (10000)\ttotal: 3m 2s\tremaining: 3m 2s\n",
            "10200:\tlearn: 33.6770009\ttest: 38.9058441\tbest: 38.9058441 (10200)\ttotal: 3m 6s\tremaining: 2m 59s\n",
            "10400:\tlearn: 33.4150891\ttest: 38.6728789\tbest: 38.6728789 (10400)\ttotal: 3m 10s\tremaining: 2m 55s\n",
            "10600:\tlearn: 33.1215781\ttest: 38.4412573\tbest: 38.4412573 (10600)\ttotal: 3m 13s\tremaining: 2m 51s\n",
            "10800:\tlearn: 32.8480277\ttest: 38.2389758\tbest: 38.2389644 (10798)\ttotal: 3m 17s\tremaining: 2m 48s\n",
            "11000:\tlearn: 32.5729534\ttest: 38.0195739\tbest: 38.0195739 (11000)\ttotal: 3m 21s\tremaining: 2m 44s\n",
            "11200:\tlearn: 32.3358706\ttest: 37.8285135\tbest: 37.8285135 (11200)\ttotal: 3m 24s\tremaining: 2m 40s\n",
            "11400:\tlearn: 32.0844071\ttest: 37.6178661\tbest: 37.6178661 (11400)\ttotal: 3m 28s\tremaining: 2m 37s\n",
            "11600:\tlearn: 31.8451817\ttest: 37.3988400\tbest: 37.3988400 (11600)\ttotal: 3m 32s\tremaining: 2m 33s\n",
            "11800:\tlearn: 31.6206180\ttest: 37.2169010\tbest: 37.2169010 (11800)\ttotal: 3m 35s\tremaining: 2m 29s\n",
            "12000:\tlearn: 31.3918580\ttest: 37.0231853\tbest: 37.0231853 (12000)\ttotal: 3m 39s\tremaining: 2m 26s\n",
            "12200:\tlearn: 31.1830683\ttest: 36.8684752\tbest: 36.8684752 (12200)\ttotal: 3m 43s\tremaining: 2m 22s\n",
            "12400:\tlearn: 30.9876174\ttest: 36.7101313\tbest: 36.7100873 (12399)\ttotal: 3m 46s\tremaining: 2m 18s\n",
            "12600:\tlearn: 30.8008286\ttest: 36.5662036\tbest: 36.5662036 (12600)\ttotal: 3m 50s\tremaining: 2m 15s\n",
            "12800:\tlearn: 30.6236510\ttest: 36.4020571\tbest: 36.4020571 (12800)\ttotal: 3m 53s\tremaining: 2m 11s\n",
            "13000:\tlearn: 30.4277578\ttest: 36.2535842\tbest: 36.2535842 (13000)\ttotal: 3m 57s\tremaining: 2m 7s\n",
            "13200:\tlearn: 30.2333342\ttest: 36.0858881\tbest: 36.0858881 (13200)\ttotal: 4m 1s\tremaining: 2m 4s\n",
            "13400:\tlearn: 30.0725962\ttest: 35.9485734\tbest: 35.9479079 (13398)\ttotal: 4m 4s\tremaining: 2m\n",
            "13600:\tlearn: 29.9135941\ttest: 35.7799110\tbest: 35.7799110 (13600)\ttotal: 4m 8s\tremaining: 1m 56s\n",
            "13800:\tlearn: 29.7512030\ttest: 35.6463431\tbest: 35.6463431 (13800)\ttotal: 4m 12s\tremaining: 1m 53s\n",
            "14000:\tlearn: 29.5922789\ttest: 35.5209088\tbest: 35.5209088 (14000)\ttotal: 4m 16s\tremaining: 1m 49s\n",
            "14200:\tlearn: 29.4382436\ttest: 35.4086844\tbest: 35.4086844 (14200)\ttotal: 4m 19s\tremaining: 1m 46s\n",
            "14400:\tlearn: 29.2958702\ttest: 35.2958988\tbest: 35.2948167 (14398)\ttotal: 4m 23s\tremaining: 1m 42s\n",
            "14600:\tlearn: 29.1508796\ttest: 35.1674974\tbest: 35.1674974 (14600)\ttotal: 4m 26s\tremaining: 1m 38s\n",
            "14800:\tlearn: 29.0195300\ttest: 35.0504487\tbest: 35.0486636 (14799)\ttotal: 4m 30s\tremaining: 1m 35s\n",
            "15000:\tlearn: 28.8859945\ttest: 34.9357155\tbest: 34.9357155 (15000)\ttotal: 4m 34s\tremaining: 1m 31s\n",
            "15200:\tlearn: 28.7534902\ttest: 34.8412847\tbest: 34.8412847 (15200)\ttotal: 4m 37s\tremaining: 1m 27s\n",
            "15400:\tlearn: 28.6225302\ttest: 34.7213906\tbest: 34.7201759 (15395)\ttotal: 4m 41s\tremaining: 1m 24s\n",
            "15600:\tlearn: 28.5021609\ttest: 34.6237681\tbest: 34.6237681 (15600)\ttotal: 4m 45s\tremaining: 1m 20s\n",
            "15800:\tlearn: 28.3874936\ttest: 34.5311312\tbest: 34.5297919 (15792)\ttotal: 4m 48s\tremaining: 1m 16s\n",
            "16000:\tlearn: 28.2776503\ttest: 34.4451375\tbest: 34.4451375 (16000)\ttotal: 4m 52s\tremaining: 1m 13s\n",
            "16200:\tlearn: 28.1713787\ttest: 34.3495123\tbest: 34.3495123 (16200)\ttotal: 4m 56s\tremaining: 1m 9s\n",
            "16400:\tlearn: 28.0683274\ttest: 34.2687521\tbest: 34.2666618 (16395)\ttotal: 4m 59s\tremaining: 1m 5s\n",
            "16600:\tlearn: 27.9655438\ttest: 34.1868573\tbest: 34.1865383 (16599)\ttotal: 5m 3s\tremaining: 1m 2s\n",
            "16800:\tlearn: 27.8752786\ttest: 34.1054712\tbest: 34.1053860 (16799)\ttotal: 5m 7s\tremaining: 58.5s\n",
            "17000:\tlearn: 27.7805976\ttest: 34.0387237\tbest: 34.0387237 (17000)\ttotal: 5m 10s\tremaining: 54.8s\n",
            "17200:\tlearn: 27.6919991\ttest: 33.9674801\tbest: 33.9669675 (17197)\ttotal: 5m 14s\tremaining: 51.2s\n",
            "17400:\tlearn: 27.6121728\ttest: 33.9072688\tbest: 33.9072688 (17400)\ttotal: 5m 18s\tremaining: 47.5s\n",
            "17600:\tlearn: 27.5270261\ttest: 33.8260069\tbest: 33.8255009 (17598)\ttotal: 5m 21s\tremaining: 43.8s\n",
            "17800:\tlearn: 27.4367962\ttest: 33.7542759\tbest: 33.7542759 (17800)\ttotal: 5m 25s\tremaining: 40.2s\n",
            "18000:\tlearn: 27.3587051\ttest: 33.6968789\tbest: 33.6931289 (17984)\ttotal: 5m 28s\tremaining: 36.5s\n",
            "18200:\tlearn: 27.2769897\ttest: 33.6256823\tbest: 33.6256823 (18200)\ttotal: 5m 32s\tremaining: 32.9s\n",
            "18400:\tlearn: 27.1962356\ttest: 33.5618806\tbest: 33.5618233 (18398)\ttotal: 5m 36s\tremaining: 29.2s\n",
            "18600:\tlearn: 27.1221373\ttest: 33.5106785\tbest: 33.5106785 (18600)\ttotal: 5m 39s\tremaining: 25.6s\n",
            "18800:\tlearn: 27.0561032\ttest: 33.4587880\tbest: 33.4587880 (18800)\ttotal: 5m 43s\tremaining: 21.9s\n",
            "19000:\tlearn: 26.9866275\ttest: 33.4001406\tbest: 33.3998807 (18998)\ttotal: 5m 47s\tremaining: 18.2s\n",
            "19200:\tlearn: 26.9182757\ttest: 33.3496914\tbest: 33.3483437 (19195)\ttotal: 5m 50s\tremaining: 14.6s\n",
            "19400:\tlearn: 26.8546092\ttest: 33.3072341\tbest: 33.3068291 (19397)\ttotal: 5m 54s\tremaining: 10.9s\n",
            "19600:\tlearn: 26.7971918\ttest: 33.2676938\tbest: 33.2676938 (19600)\ttotal: 5m 57s\tremaining: 7.29s\n",
            "19800:\tlearn: 26.7351565\ttest: 33.2150578\tbest: 33.2150578 (19800)\ttotal: 6m 1s\tremaining: 3.63s\n",
            "19999:\tlearn: 26.6807367\ttest: 33.1753692\tbest: 33.1753692 (19999)\ttotal: 6m 5s\tremaining: 0us\n",
            "\n",
            "bestTest = 33.17536919\n",
            "bestIteration = 19999\n",
            "\n"
          ],
          "name": "stdout"
        },
        {
          "output_type": "execute_result",
          "data": {
            "text/plain": [
              "<catboost.core.CatBoostRegressor at 0x7fe0f5c02978>"
            ]
          },
          "metadata": {
            "tags": []
          },
          "execution_count": 40
        }
      ]
    },
    {
      "cell_type": "code",
      "metadata": {
        "id": "JiVAdHdnMyqJ",
        "colab_type": "code",
        "colab": {
          "base_uri": "https://localhost:8080/",
          "height": 419
        },
        "outputId": "6d0340b2-4539-47e2-9051-90e639c82207"
      },
      "source": [
        "pd.DataFrame({'actual': y_test, 'predicted': model.predict(X_test)})"
      ],
      "execution_count": null,
      "outputs": [
        {
          "output_type": "execute_result",
          "data": {
            "text/html": [
              "<div>\n",
              "<style scoped>\n",
              "    .dataframe tbody tr th:only-of-type {\n",
              "        vertical-align: middle;\n",
              "    }\n",
              "\n",
              "    .dataframe tbody tr th {\n",
              "        vertical-align: top;\n",
              "    }\n",
              "\n",
              "    .dataframe thead th {\n",
              "        text-align: right;\n",
              "    }\n",
              "</style>\n",
              "<table border=\"1\" class=\"dataframe\">\n",
              "  <thead>\n",
              "    <tr style=\"text-align: right;\">\n",
              "      <th></th>\n",
              "      <th>actual</th>\n",
              "      <th>predicted</th>\n",
              "    </tr>\n",
              "  </thead>\n",
              "  <tbody>\n",
              "    <tr>\n",
              "      <th>34491</th>\n",
              "      <td>563</td>\n",
              "      <td>558.716951</td>\n",
              "    </tr>\n",
              "    <tr>\n",
              "      <th>45698</th>\n",
              "      <td>1041</td>\n",
              "      <td>1061.730461</td>\n",
              "    </tr>\n",
              "    <tr>\n",
              "      <th>73682</th>\n",
              "      <td>978</td>\n",
              "      <td>997.550459</td>\n",
              "    </tr>\n",
              "    <tr>\n",
              "      <th>47856</th>\n",
              "      <td>1570</td>\n",
              "      <td>1571.474395</td>\n",
              "    </tr>\n",
              "    <tr>\n",
              "      <th>29522</th>\n",
              "      <td>1176</td>\n",
              "      <td>1174.108256</td>\n",
              "    </tr>\n",
              "    <tr>\n",
              "      <th>...</th>\n",
              "      <td>...</td>\n",
              "      <td>...</td>\n",
              "    </tr>\n",
              "    <tr>\n",
              "      <th>47515</th>\n",
              "      <td>1337</td>\n",
              "      <td>1332.051111</td>\n",
              "    </tr>\n",
              "    <tr>\n",
              "      <th>23145</th>\n",
              "      <td>2004</td>\n",
              "      <td>1987.891154</td>\n",
              "    </tr>\n",
              "    <tr>\n",
              "      <th>41114</th>\n",
              "      <td>589</td>\n",
              "      <td>582.990192</td>\n",
              "    </tr>\n",
              "    <tr>\n",
              "      <th>13213</th>\n",
              "      <td>535</td>\n",
              "      <td>539.605752</td>\n",
              "    </tr>\n",
              "    <tr>\n",
              "      <th>686</th>\n",
              "      <td>949</td>\n",
              "      <td>952.894451</td>\n",
              "    </tr>\n",
              "  </tbody>\n",
              "</table>\n",
              "<p>41962 rows × 2 columns</p>\n",
              "</div>"
            ],
            "text/plain": [
              "       actual    predicted\n",
              "34491     563   558.716951\n",
              "45698    1041  1061.730461\n",
              "73682     978   997.550459\n",
              "47856    1570  1571.474395\n",
              "29522    1176  1174.108256\n",
              "...       ...          ...\n",
              "47515    1337  1332.051111\n",
              "23145    2004  1987.891154\n",
              "41114     589   582.990192\n",
              "13213     535   539.605752\n",
              "686       949   952.894451\n",
              "\n",
              "[41962 rows x 2 columns]"
            ]
          },
          "metadata": {
            "tags": []
          },
          "execution_count": 42
        }
      ]
    },
    {
      "cell_type": "code",
      "metadata": {
        "id": "UHCsHf3zL8N9",
        "colab_type": "code",
        "colab": {
          "base_uri": "https://localhost:8080/",
          "height": 34
        },
        "outputId": "01f3e820-4688-4ac2-cac5-50f21b6cef45"
      },
      "source": [
        "from sklearn.metrics import mean_squared_error\n",
        "from math import sqrt\n",
        "\n",
        "rms = sqrt(mean_squared_error(y_test, model.predict(X_test)))\n",
        "print(rms)"
      ],
      "execution_count": null,
      "outputs": [
        {
          "output_type": "stream",
          "text": [
            "28.948033943368134\n"
          ],
          "name": "stdout"
        }
      ]
    },
    {
      "cell_type": "code",
      "metadata": {
        "id": "bbtYUhs3P2xs",
        "colab_type": "code",
        "colab": {}
      },
      "source": [
        "TEST_SET = pd.read_csv('/content/drive/My Drive/Zindi/Test.csv')"
      ],
      "execution_count": null,
      "outputs": []
    },
    {
      "cell_type": "code",
      "metadata": {
        "id": "Fu9nwruRQDso",
        "colab_type": "code",
        "colab": {}
      },
      "source": [
        ""
      ],
      "execution_count": null,
      "outputs": []
    },
    {
      "cell_type": "code",
      "metadata": {
        "id": "W44NXZOEMuEg",
        "colab_type": "code",
        "colab": {}
      },
      "source": [
        ""
      ],
      "execution_count": null,
      "outputs": []
    }
  ]
}