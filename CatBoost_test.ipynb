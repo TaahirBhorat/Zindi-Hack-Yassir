{
  "nbformat": 4,
  "nbformat_minor": 0,
  "metadata": {
    "colab": {
      "name": "CatBoost test.ipynb",
      "provenance": [],
      "authorship_tag": "ABX9TyNrtoaHmOz/hX3nEvMrYPsS",
      "include_colab_link": true
    },
    "kernelspec": {
      "name": "python3",
      "display_name": "Python 3"
    },
    "accelerator": "GPU"
  },
  "cells": [
    {
      "cell_type": "markdown",
      "metadata": {
        "id": "view-in-github",
        "colab_type": "text"
      },
      "source": [
        "<a href=\"https://colab.research.google.com/github/TaahirBhorat/Zindi-Hack-Yassir/blob/master/CatBoost_test.ipynb\" target=\"_parent\"><img src=\"https://colab.research.google.com/assets/colab-badge.svg\" alt=\"Open In Colab\"/></a>"
      ]
    },
    {
      "cell_type": "markdown",
      "metadata": {
        "id": "zUItjRu2H4Qo",
        "colab_type": "text"
      },
      "source": [
        "Get everything set up"
      ]
    },
    {
      "cell_type": "code",
      "metadata": {
        "id": "b2J09I3mAdV6",
        "colab_type": "code",
        "colab": {
          "base_uri": "https://localhost:8080/",
          "height": 34
        },
        "outputId": "ea79dbbd-b8a7-41b0-f92a-f6cf5209a906"
      },
      "source": [
        "!pip install -q catboost\n",
        "!wget -q https://people.cs.uct.ac.za/~mshstu001/data.zip\n",
        "!unzip -q data.zip"
      ],
      "execution_count": null,
      "outputs": [
        {
          "output_type": "stream",
          "text": [
            "\u001b[K     |████████████████████████████████| 64.8MB 46kB/s \n",
            "\u001b[?25h"
          ],
          "name": "stdout"
        }
      ]
    },
    {
      "cell_type": "markdown",
      "metadata": {
        "id": "pNuOXZwOH94R",
        "colab_type": "text"
      },
      "source": [
        "Train a model"
      ]
    },
    {
      "cell_type": "code",
      "metadata": {
        "id": "ePqnuyjFA8vv",
        "colab_type": "code",
        "colab": {
          "base_uri": "https://localhost:8080/",
          "height": 1000
        },
        "outputId": "278ff982-61b5-441a-b019-8d1c8450e62c"
      },
      "source": [
        "import pandas as pd\n",
        "from sklearn.model_selection import train_test_split\n",
        "from catboost import CatBoostRegressor\n",
        "\n",
        "print('reading data')\n",
        "df = pd.read_csv('data.csv')\n",
        "\n",
        "print('parsing timestamps')\n",
        "timestamps = pd.to_datetime(df['trip_start_timestamp'], infer_datetime_format=True)\n",
        "\n",
        "df = df.drop('trip_start_timestamp', axis=1)\n",
        "df = df.drop('trip_end_timestamp', axis=1)\n",
        "\n",
        "df['year'] = timestamps.dt.year\n",
        "df['month'] = timestamps.dt.month\n",
        "df['day'] = timestamps.dt.day\n",
        "df['hour'] = timestamps.dt.hour\n",
        "df['minute'] = timestamps.dt.minute\n",
        "\n",
        "X = df.drop('trip_seconds', axis=1)\n",
        "y = df['trip_seconds']\n",
        "\n",
        "print('splitting into test, validation and training sets')\n",
        "X_train, X_test, y_train, y_test = train_test_split(X, y, shuffle=True, test_size=0.01)\n",
        "X_val, X_test, y_val, y_test = train_test_split(X, y, shuffle=True, test_size=0.5)\n",
        "\n",
        "model = CatBoostRegressor(\n",
        "    loss_function='RMSE',\n",
        "    iterations=20000,\n",
        "    learning_rate=1.0,\n",
        "    task_type='GPU'\n",
        ")\n",
        "\n",
        "print('training catboost model')\n",
        "model.fit(\n",
        "    X_train, y_train,\n",
        "    eval_set=(X_val, y_val),\n",
        "    verbose=200\n",
        ")\n"
      ],
      "execution_count": null,
      "outputs": [
        {
          "output_type": "stream",
          "text": [
            "reading data\n",
            "parsing timestamps\n",
            "splitting into test, validation and training sets\n",
            "training catboost model\n",
            "0:\tlearn: 891.2491754\ttest: 896.1737397\tbest: 896.1737397 (0)\ttotal: 45.6ms\tremaining: 15m 12s\n",
            "200:\tlearn: 821.1139965\ttest: 822.9830972\tbest: 822.9830972 (200)\ttotal: 6.2s\tremaining: 10m 10s\n",
            "400:\tlearn: 800.9464997\ttest: 803.1282032\tbest: 803.1282032 (400)\ttotal: 12.2s\tremaining: 9m 58s\n",
            "600:\tlearn: 788.0645827\ttest: 789.1016697\tbest: 789.1016697 (600)\ttotal: 18.3s\tremaining: 9m 51s\n",
            "800:\tlearn: 775.6870099\ttest: 775.8546697\tbest: 775.8546697 (800)\ttotal: 24.5s\tremaining: 9m 46s\n",
            "1000:\tlearn: 766.2186385\ttest: 765.8766659\tbest: 765.8517242 (997)\ttotal: 30.4s\tremaining: 9m 37s\n",
            "1200:\tlearn: 758.5750821\ttest: 757.2863277\tbest: 757.2863277 (1200)\ttotal: 36.5s\tremaining: 9m 31s\n",
            "1400:\tlearn: 751.1297076\ttest: 750.0699356\tbest: 750.0506947 (1398)\ttotal: 42.6s\tremaining: 9m 25s\n",
            "1600:\tlearn: 744.3639596\ttest: 742.3923875\tbest: 742.3923875 (1600)\ttotal: 48.7s\tremaining: 9m 19s\n",
            "1800:\tlearn: 737.0333385\ttest: 737.3298302\tbest: 737.3298302 (1800)\ttotal: 54.8s\tremaining: 9m 14s\n",
            "2000:\tlearn: 732.1994330\ttest: 733.6738256\tbest: 733.6645870 (1997)\ttotal: 1m\tremaining: 9m 7s\n",
            "2200:\tlearn: 727.4345085\ttest: 728.6233537\tbest: 728.6233537 (2200)\ttotal: 1m 7s\tremaining: 9m 2s\n",
            "2400:\tlearn: 722.9932108\ttest: 722.7743829\tbest: 722.7540787 (2399)\ttotal: 1m 13s\tremaining: 8m 55s\n",
            "2600:\tlearn: 718.1065374\ttest: 718.6811347\tbest: 718.6811347 (2600)\ttotal: 1m 19s\tremaining: 8m 49s\n",
            "2800:\tlearn: 714.0052409\ttest: 714.1004220\tbest: 714.1004220 (2800)\ttotal: 1m 25s\tremaining: 8m 43s\n",
            "3000:\tlearn: 710.2780629\ttest: 710.4774128\tbest: 710.4774128 (3000)\ttotal: 1m 31s\tremaining: 8m 37s\n",
            "3200:\tlearn: 706.5961320\ttest: 707.3539288\tbest: 707.3389820 (3198)\ttotal: 1m 37s\tremaining: 8m 31s\n",
            "3400:\tlearn: 703.3621192\ttest: 704.4328449\tbest: 704.4328449 (3400)\ttotal: 1m 43s\tremaining: 8m 25s\n",
            "3600:\tlearn: 699.8779115\ttest: 700.8120107\tbest: 700.8120107 (3600)\ttotal: 1m 49s\tremaining: 8m 19s\n",
            "3800:\tlearn: 695.9978352\ttest: 697.1476235\tbest: 697.1476235 (3800)\ttotal: 1m 55s\tremaining: 8m 13s\n",
            "4000:\tlearn: 693.1945546\ttest: 693.4389694\tbest: 693.4389694 (4000)\ttotal: 2m 2s\tremaining: 8m 7s\n",
            "4200:\tlearn: 690.4439700\ttest: 690.7860671\tbest: 690.7860671 (4200)\ttotal: 2m 8s\tremaining: 8m 2s\n",
            "4400:\tlearn: 687.7977259\ttest: 688.6121131\tbest: 688.6121131 (4400)\ttotal: 2m 14s\tremaining: 7m 56s\n",
            "4600:\tlearn: 684.7528844\ttest: 686.0776409\tbest: 686.0776409 (4600)\ttotal: 2m 20s\tremaining: 7m 50s\n",
            "4800:\tlearn: 682.3445802\ttest: 683.6965402\tbest: 683.6965402 (4800)\ttotal: 2m 26s\tremaining: 7m 44s\n",
            "5000:\tlearn: 679.8812989\ttest: 681.1635606\tbest: 681.1635606 (5000)\ttotal: 2m 32s\tremaining: 7m 38s\n",
            "5200:\tlearn: 677.5346851\ttest: 678.8633539\tbest: 678.8633539 (5200)\ttotal: 2m 38s\tremaining: 7m 32s\n",
            "5400:\tlearn: 674.8548358\ttest: 677.3165492\tbest: 677.3165492 (5400)\ttotal: 2m 45s\tremaining: 7m 26s\n",
            "5600:\tlearn: 672.3394619\ttest: 674.8945685\tbest: 674.8945685 (5600)\ttotal: 2m 51s\tremaining: 7m 20s\n",
            "5800:\tlearn: 670.3787692\ttest: 673.3944433\tbest: 673.3944433 (5800)\ttotal: 2m 57s\tremaining: 7m 14s\n",
            "6000:\tlearn: 667.7890953\ttest: 670.1339667\tbest: 670.1339667 (6000)\ttotal: 3m 3s\tremaining: 7m 8s\n",
            "6200:\tlearn: 665.8333298\ttest: 668.2271504\tbest: 668.2271504 (6200)\ttotal: 3m 9s\tremaining: 7m 2s\n",
            "6400:\tlearn: 663.5986960\ttest: 666.0739052\tbest: 666.0739052 (6400)\ttotal: 3m 15s\tremaining: 6m 56s\n",
            "6600:\tlearn: 661.3689194\ttest: 664.1411249\tbest: 664.1411249 (6600)\ttotal: 3m 22s\tremaining: 6m 50s\n",
            "6800:\tlearn: 659.4853929\ttest: 662.2579690\tbest: 662.2568672 (6797)\ttotal: 3m 28s\tremaining: 6m 44s\n",
            "7000:\tlearn: 657.7333762\ttest: 660.4013887\tbest: 660.3985159 (6999)\ttotal: 3m 34s\tremaining: 6m 38s\n",
            "7200:\tlearn: 656.2017661\ttest: 658.8248502\tbest: 658.8248502 (7200)\ttotal: 3m 40s\tremaining: 6m 32s\n",
            "7400:\tlearn: 653.7222090\ttest: 656.7805313\tbest: 656.7805313 (7400)\ttotal: 3m 46s\tremaining: 6m 26s\n",
            "7600:\tlearn: 651.7616777\ttest: 655.3611288\tbest: 655.3319067 (7592)\ttotal: 3m 53s\tremaining: 6m 20s\n",
            "7800:\tlearn: 650.3343363\ttest: 654.0501223\tbest: 654.0501223 (7800)\ttotal: 3m 59s\tremaining: 6m 14s\n",
            "8000:\tlearn: 648.8443328\ttest: 652.7531517\tbest: 652.7504440 (7997)\ttotal: 4m 5s\tremaining: 6m 8s\n",
            "8200:\tlearn: 647.3558842\ttest: 651.3532790\tbest: 651.3532790 (8200)\ttotal: 4m 11s\tremaining: 6m 2s\n",
            "8400:\tlearn: 645.8598210\ttest: 650.1989601\tbest: 650.1810035 (8398)\ttotal: 4m 17s\tremaining: 5m 56s\n",
            "8600:\tlearn: 644.6032498\ttest: 649.0278476\tbest: 649.0246496 (8597)\ttotal: 4m 24s\tremaining: 5m 49s\n",
            "8800:\tlearn: 643.1298175\ttest: 647.6323666\tbest: 647.6323666 (8800)\ttotal: 4m 30s\tremaining: 5m 43s\n",
            "9000:\tlearn: 641.5547414\ttest: 645.4822929\tbest: 645.4822929 (9000)\ttotal: 4m 36s\tremaining: 5m 37s\n",
            "9200:\tlearn: 639.8643951\ttest: 643.7356830\tbest: 643.7356830 (9200)\ttotal: 4m 42s\tremaining: 5m 31s\n",
            "9400:\tlearn: 638.4329292\ttest: 642.5210427\tbest: 642.5141529 (9399)\ttotal: 4m 48s\tremaining: 5m 25s\n",
            "9600:\tlearn: 637.0438348\ttest: 641.1278390\tbest: 641.0918218 (9595)\ttotal: 4m 55s\tremaining: 5m 19s\n",
            "9800:\tlearn: 635.3523923\ttest: 639.5189765\tbest: 639.5189765 (9800)\ttotal: 5m 1s\tremaining: 5m 13s\n",
            "10000:\tlearn: 633.8318217\ttest: 638.3834181\tbest: 638.3834181 (10000)\ttotal: 5m 7s\tremaining: 5m 7s\n",
            "10200:\tlearn: 632.7437991\ttest: 637.4221043\tbest: 637.4048816 (10194)\ttotal: 5m 13s\tremaining: 5m 1s\n",
            "10400:\tlearn: 631.3939172\ttest: 636.0443481\tbest: 636.0443481 (10400)\ttotal: 5m 20s\tremaining: 4m 55s\n",
            "10600:\tlearn: 630.2874196\ttest: 634.5445273\tbest: 634.5445273 (10600)\ttotal: 5m 26s\tremaining: 4m 49s\n",
            "10800:\tlearn: 629.1730405\ttest: 633.2110628\tbest: 633.2057874 (10798)\ttotal: 5m 32s\tremaining: 4m 43s\n",
            "11000:\tlearn: 627.8159767\ttest: 632.0273302\tbest: 632.0273302 (11000)\ttotal: 5m 38s\tremaining: 4m 37s\n",
            "11200:\tlearn: 626.4985376\ttest: 630.9047611\tbest: 630.9047611 (11200)\ttotal: 5m 44s\tremaining: 4m 30s\n",
            "11400:\tlearn: 625.1248467\ttest: 630.0256247\tbest: 630.0256247 (11400)\ttotal: 5m 51s\tremaining: 4m 24s\n",
            "11600:\tlearn: 624.0525627\ttest: 629.1385328\tbest: 629.1385328 (11600)\ttotal: 5m 57s\tremaining: 4m 18s\n",
            "11800:\tlearn: 622.9090970\ttest: 628.1652653\tbest: 628.1618320 (11794)\ttotal: 6m 3s\tremaining: 4m 12s\n",
            "12000:\tlearn: 621.3969042\ttest: 627.2266049\tbest: 627.2098004 (11995)\ttotal: 6m 9s\tremaining: 4m 6s\n",
            "12200:\tlearn: 620.0879890\ttest: 626.0063535\tbest: 626.0063535 (12200)\ttotal: 6m 16s\tremaining: 4m\n",
            "12400:\tlearn: 618.5448558\ttest: 623.8793748\tbest: 623.8776593 (12398)\ttotal: 6m 22s\tremaining: 3m 54s\n",
            "12600:\tlearn: 617.6153537\ttest: 623.1929505\tbest: 623.1929505 (12600)\ttotal: 6m 28s\tremaining: 3m 48s\n",
            "12800:\tlearn: 616.7806979\ttest: 622.3089128\tbest: 622.3089128 (12800)\ttotal: 6m 34s\tremaining: 3m 42s\n",
            "13000:\tlearn: 615.3754932\ttest: 621.1912568\tbest: 621.1912568 (13000)\ttotal: 6m 41s\tremaining: 3m 35s\n",
            "13200:\tlearn: 614.2537134\ttest: 620.2830346\tbest: 620.2830346 (13200)\ttotal: 6m 47s\tremaining: 3m 29s\n",
            "13400:\tlearn: 613.3804910\ttest: 619.6110243\tbest: 619.6110243 (13400)\ttotal: 6m 53s\tremaining: 3m 23s\n",
            "13600:\tlearn: 612.2361149\ttest: 618.5604313\tbest: 618.5594090 (13599)\ttotal: 6m 59s\tremaining: 3m 17s\n",
            "13800:\tlearn: 610.8719388\ttest: 617.6352399\tbest: 617.6352399 (13800)\ttotal: 7m 6s\tremaining: 3m 11s\n",
            "14000:\tlearn: 609.9441975\ttest: 616.6491549\tbest: 616.6491549 (14000)\ttotal: 7m 12s\tremaining: 3m 5s\n",
            "14200:\tlearn: 608.9511913\ttest: 615.7877968\tbest: 615.7877968 (14200)\ttotal: 7m 18s\tremaining: 2m 59s\n",
            "14400:\tlearn: 607.8944593\ttest: 614.8397875\tbest: 614.8397875 (14400)\ttotal: 7m 24s\tremaining: 2m 52s\n",
            "14600:\tlearn: 607.0283057\ttest: 613.9596482\tbest: 613.9596482 (14600)\ttotal: 7m 30s\tremaining: 2m 46s\n",
            "14800:\tlearn: 605.9263765\ttest: 612.6897914\tbest: 612.6815339 (14797)\ttotal: 7m 37s\tremaining: 2m 40s\n",
            "15000:\tlearn: 604.9402318\ttest: 611.8428427\tbest: 611.8428427 (15000)\ttotal: 7m 43s\tremaining: 2m 34s\n",
            "15200:\tlearn: 603.9135310\ttest: 610.3889972\tbest: 610.3889972 (15200)\ttotal: 7m 49s\tremaining: 2m 28s\n",
            "15400:\tlearn: 603.1061098\ttest: 609.3520430\tbest: 609.3520430 (15400)\ttotal: 7m 55s\tremaining: 2m 22s\n",
            "15600:\tlearn: 602.1792156\ttest: 608.6535512\tbest: 608.6275483 (15596)\ttotal: 8m 2s\tremaining: 2m 15s\n",
            "15800:\tlearn: 601.3190484\ttest: 607.8181592\tbest: 607.8181592 (15800)\ttotal: 8m 8s\tremaining: 2m 9s\n",
            "16000:\tlearn: 600.4956737\ttest: 607.0798410\tbest: 607.0798410 (16000)\ttotal: 8m 14s\tremaining: 2m 3s\n",
            "16200:\tlearn: 599.6437992\ttest: 606.5063832\tbest: 606.5063832 (16200)\ttotal: 8m 21s\tremaining: 1m 57s\n",
            "16400:\tlearn: 598.9721250\ttest: 605.7955631\tbest: 605.7955631 (16400)\ttotal: 8m 27s\tremaining: 1m 51s\n",
            "16600:\tlearn: 598.1190391\ttest: 604.9711009\tbest: 604.9711009 (16600)\ttotal: 8m 33s\tremaining: 1m 45s\n",
            "16800:\tlearn: 597.1511063\ttest: 604.1202292\tbest: 604.1202292 (16800)\ttotal: 8m 39s\tremaining: 1m 38s\n",
            "17000:\tlearn: 596.4150836\ttest: 603.3965474\tbest: 603.3965474 (17000)\ttotal: 8m 46s\tremaining: 1m 32s\n",
            "17200:\tlearn: 595.3982210\ttest: 602.6904271\tbest: 602.6383361 (17171)\ttotal: 8m 52s\tremaining: 1m 26s\n",
            "17400:\tlearn: 594.5665918\ttest: 601.7874535\tbest: 601.7874535 (17400)\ttotal: 8m 58s\tremaining: 1m 20s\n",
            "17600:\tlearn: 593.7437567\ttest: 600.7451264\tbest: 600.7451264 (17600)\ttotal: 9m 4s\tremaining: 1m 14s\n",
            "17800:\tlearn: 593.0560379\ttest: 600.1435413\tbest: 600.1434873 (17796)\ttotal: 9m 11s\tremaining: 1m 8s\n",
            "18000:\tlearn: 592.2127394\ttest: 598.9876684\tbest: 598.9876684 (18000)\ttotal: 9m 17s\tremaining: 1m 1s\n",
            "18200:\tlearn: 591.4834208\ttest: 598.2652589\tbest: 598.2652589 (18200)\ttotal: 9m 23s\tremaining: 55.7s\n",
            "18400:\tlearn: 590.8063229\ttest: 597.5735357\tbest: 597.5735357 (18400)\ttotal: 9m 30s\tremaining: 49.5s\n",
            "18600:\tlearn: 590.0887285\ttest: 596.9390915\tbest: 596.9352070 (18597)\ttotal: 9m 36s\tremaining: 43.3s\n",
            "18800:\tlearn: 589.4779975\ttest: 596.4736084\tbest: 596.4606406 (18787)\ttotal: 9m 42s\tremaining: 37.2s\n",
            "19000:\tlearn: 588.8594290\ttest: 595.9929881\tbest: 595.9929881 (19000)\ttotal: 9m 48s\tremaining: 31s\n",
            "19200:\tlearn: 588.0501670\ttest: 595.2759065\tbest: 595.2432988 (19199)\ttotal: 9m 55s\tremaining: 24.8s\n",
            "19400:\tlearn: 587.3956304\ttest: 594.5680238\tbest: 594.5680238 (19400)\ttotal: 10m 1s\tremaining: 18.6s\n",
            "19600:\tlearn: 586.6584806\ttest: 593.9917139\tbest: 593.9696283 (19599)\ttotal: 10m 7s\tremaining: 12.4s\n",
            "19800:\tlearn: 586.0127034\ttest: 593.4120571\tbest: 593.4120571 (19800)\ttotal: 10m 13s\tremaining: 6.17s\n",
            "19999:\tlearn: 585.3464026\ttest: 592.8322164\tbest: 592.8322164 (19999)\ttotal: 10m 20s\tremaining: 0us\n",
            "bestTest = 592.8322164\n",
            "bestIteration = 19999\n"
          ],
          "name": "stdout"
        },
        {
          "output_type": "execute_result",
          "data": {
            "text/plain": [
              "<catboost.core.CatBoostRegressor at 0x7fa1330cb710>"
            ]
          },
          "metadata": {
            "tags": []
          },
          "execution_count": 1
        }
      ]
    },
    {
      "cell_type": "markdown",
      "metadata": {
        "id": "5pE_odENHxjo",
        "colab_type": "text"
      },
      "source": [
        "Test it on unseen data"
      ]
    },
    {
      "cell_type": "code",
      "metadata": {
        "id": "xm7Q4YtMDAcj",
        "colab_type": "code",
        "colab": {
          "base_uri": "https://localhost:8080/",
          "height": 419
        },
        "outputId": "26e8c6e7-88f1-43f8-b397-c3f052d94f0f"
      },
      "source": [
        "pd.DataFrame({'actual': y_test, 'predicted': model.predict(X_test)})"
      ],
      "execution_count": null,
      "outputs": [
        {
          "output_type": "execute_result",
          "data": {
            "text/html": [
              "<div>\n",
              "<style scoped>\n",
              "    .dataframe tbody tr th:only-of-type {\n",
              "        vertical-align: middle;\n",
              "    }\n",
              "\n",
              "    .dataframe tbody tr th {\n",
              "        vertical-align: top;\n",
              "    }\n",
              "\n",
              "    .dataframe thead th {\n",
              "        text-align: right;\n",
              "    }\n",
              "</style>\n",
              "<table border=\"1\" class=\"dataframe\">\n",
              "  <thead>\n",
              "    <tr style=\"text-align: right;\">\n",
              "      <th></th>\n",
              "      <th>actual</th>\n",
              "      <th>predicted</th>\n",
              "    </tr>\n",
              "  </thead>\n",
              "  <tbody>\n",
              "    <tr>\n",
              "      <th>2551013</th>\n",
              "      <td>540</td>\n",
              "      <td>480.925072</td>\n",
              "    </tr>\n",
              "    <tr>\n",
              "      <th>1104464</th>\n",
              "      <td>300</td>\n",
              "      <td>278.403658</td>\n",
              "    </tr>\n",
              "    <tr>\n",
              "      <th>1690628</th>\n",
              "      <td>2940</td>\n",
              "      <td>2820.261840</td>\n",
              "    </tr>\n",
              "    <tr>\n",
              "      <th>2156558</th>\n",
              "      <td>205</td>\n",
              "      <td>219.720484</td>\n",
              "    </tr>\n",
              "    <tr>\n",
              "      <th>1352615</th>\n",
              "      <td>300</td>\n",
              "      <td>268.913382</td>\n",
              "    </tr>\n",
              "    <tr>\n",
              "      <th>...</th>\n",
              "      <td>...</td>\n",
              "      <td>...</td>\n",
              "    </tr>\n",
              "    <tr>\n",
              "      <th>3766110</th>\n",
              "      <td>960</td>\n",
              "      <td>707.343314</td>\n",
              "    </tr>\n",
              "    <tr>\n",
              "      <th>881600</th>\n",
              "      <td>1045</td>\n",
              "      <td>843.027822</td>\n",
              "    </tr>\n",
              "    <tr>\n",
              "      <th>629818</th>\n",
              "      <td>420</td>\n",
              "      <td>356.245655</td>\n",
              "    </tr>\n",
              "    <tr>\n",
              "      <th>3589934</th>\n",
              "      <td>420</td>\n",
              "      <td>677.439508</td>\n",
              "    </tr>\n",
              "    <tr>\n",
              "      <th>2701161</th>\n",
              "      <td>2400</td>\n",
              "      <td>2204.455868</td>\n",
              "    </tr>\n",
              "  </tbody>\n",
              "</table>\n",
              "<p>2020772 rows × 2 columns</p>\n",
              "</div>"
            ],
            "text/plain": [
              "         actual    predicted\n",
              "2551013     540   480.925072\n",
              "1104464     300   278.403658\n",
              "1690628    2940  2820.261840\n",
              "2156558     205   219.720484\n",
              "1352615     300   268.913382\n",
              "...         ...          ...\n",
              "3766110     960   707.343314\n",
              "881600     1045   843.027822\n",
              "629818      420   356.245655\n",
              "3589934     420   677.439508\n",
              "2701161    2400  2204.455868\n",
              "\n",
              "[2020772 rows x 2 columns]"
            ]
          },
          "metadata": {
            "tags": []
          },
          "execution_count": 2
        }
      ]
    },
    {
      "cell_type": "code",
      "metadata": {
        "id": "sL_5uv8pRcuu",
        "colab_type": "code",
        "colab": {
          "base_uri": "https://localhost:8080/",
          "height": 34
        },
        "outputId": "0a30ecfc-54e9-404f-9efc-e3c2d6a51a4a"
      },
      "source": [
        "from sklearn.metrics import mean_squared_error\n",
        "from math import sqrt\n",
        "\n",
        "rms = sqrt(mean_squared_error(y_test, model.predict(X_test)))\n",
        "print(rms)"
      ],
      "execution_count": null,
      "outputs": [
        {
          "output_type": "stream",
          "text": [
            "859.0637229441936\n"
          ],
          "name": "stdout"
        }
      ]
    },
    {
      "cell_type": "markdown",
      "metadata": {
        "id": "Ub13-4hvx9eo",
        "colab_type": "text"
      },
      "source": [
        "Train a default XGB regressor"
      ]
    },
    {
      "cell_type": "code",
      "metadata": {
        "id": "IgZLkU9-r7k7",
        "colab_type": "code",
        "colab": {
          "base_uri": "https://localhost:8080/",
          "height": 221
        },
        "outputId": "5380d226-2d33-4006-fb5a-75f55b03e685"
      },
      "source": [
        "import pandas as pd\n",
        "from sklearn.model_selection import train_test_split\n",
        "import xgboost as xgb\n",
        "\n",
        "print('reading data')\n",
        "df = pd.read_csv('data.csv')\n",
        "\n",
        "print('parsing timestamps')\n",
        "timestamps = pd.to_datetime(df['trip_start_timestamp'], infer_datetime_format=True)\n",
        "\n",
        "df = df.drop('trip_start_timestamp', axis=1)\n",
        "df = df.drop('trip_end_timestamp', axis=1)\n",
        "\n",
        "df['year'] = timestamps.dt.year\n",
        "df['month'] = timestamps.dt.month\n",
        "df['day'] = timestamps.dt.day\n",
        "df['hour'] = timestamps.dt.hour\n",
        "df['minute'] = timestamps.dt.minute\n",
        "\n",
        "X = df.drop('trip_seconds', axis=1)\n",
        "y = df['trip_seconds']\n",
        "\n",
        "print('splitting into test, validation and training sets')\n",
        "X_train, X_test, y_train, y_test = train_test_split(X, y, shuffle=True, test_size=0.01)\n",
        "X_val, X_test, y_val, y_test = train_test_split(X, y, shuffle=True, test_size=0.5)\n",
        "\n",
        "print('training xgb model')\n",
        "\n",
        "model = xgb.XGBRegressor(\n",
        "    objective='reg:squarederror',\n",
        "    tree_method='gpu_hist',\n",
        "    gpu_id=0\n",
        ")\n",
        "\n",
        "model.fit(\n",
        "    X_train, y_train,\n",
        ")"
      ],
      "execution_count": null,
      "outputs": [
        {
          "output_type": "stream",
          "text": [
            "reading data\n",
            "parsing timestamps\n",
            "splitting into test, validation and training sets\n",
            "training xgb model\n"
          ],
          "name": "stdout"
        },
        {
          "output_type": "execute_result",
          "data": {
            "text/plain": [
              "XGBRegressor(base_score=0.5, booster='gbtree', colsample_bylevel=1,\n",
              "             colsample_bynode=1, colsample_bytree=1, gamma=0, gpu_id=0,\n",
              "             importance_type='gain', learning_rate=0.1, max_delta_step=0,\n",
              "             max_depth=3, min_child_weight=1, missing=None, n_estimators=100,\n",
              "             n_jobs=1, nthread=None, objective='reg:squarederror',\n",
              "             random_state=0, reg_alpha=0, reg_lambda=1, scale_pos_weight=1,\n",
              "             seed=None, silent=None, subsample=1, tree_method='gpu_hist',\n",
              "             verbosity=1)"
            ]
          },
          "metadata": {
            "tags": []
          },
          "execution_count": 6
        }
      ]
    }
  ]
}